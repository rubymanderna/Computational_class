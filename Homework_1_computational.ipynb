{
 "cells": [
  {
   "cell_type": "markdown",
   "id": "0b3f2530",
   "metadata": {},
   "source": [
    "# MolSSI Workshop\n",
    "## Introduction\n",
    "\n",
    "This lesson covers Python basics like variable creation and assignment and using the Jupyter notebook\n"
   ]
  },
  {
   "cell_type": "code",
   "execution_count": 1,
   "id": "1798c667",
   "metadata": {},
   "outputs": [
    {
     "data": {
      "text/plain": [
       "10"
      ]
     },
     "execution_count": 1,
     "metadata": {},
     "output_type": "execute_result"
    }
   ],
   "source": [
    "3 + 7"
   ]
  },
  {
   "cell_type": "code",
   "execution_count": 2,
   "id": "14344f55",
   "metadata": {},
   "outputs": [],
   "source": [
    "deltaH = -541.5   #kJ/mole\n",
    "deltaS =  10.4     #kJ/(mole K)\n",
    "temp = 298      #Kelvin\n",
    "deltaG = deltaH - temp * deltaS"
   ]
  },
  {
   "cell_type": "code",
   "execution_count": 3,
   "id": "11dbc4f1",
   "metadata": {},
   "outputs": [
    {
     "name": "stdout",
     "output_type": "stream",
     "text": [
      "-3640.7000000000003\n"
     ]
    }
   ],
   "source": [
    "print(deltaG)"
   ]
  },
  {
   "cell_type": "code",
   "execution_count": 4,
   "id": "868c7e93",
   "metadata": {},
   "outputs": [
    {
     "name": "stdout",
     "output_type": "stream",
     "text": [
      "-3640.7000000000003\n",
      "-3640.7000000000003\n"
     ]
    }
   ],
   "source": [
    "print(deltaG)\n",
    "deltaG * 1000\n",
    "print(deltaG)"
   ]
  },
  {
   "cell_type": "code",
   "execution_count": 5,
   "id": "90fa8135",
   "metadata": {},
   "outputs": [
    {
     "name": "stdout",
     "output_type": "stream",
     "text": [
      "-3640.7000000000003\n",
      "-3640700.0000000005\n"
     ]
    }
   ],
   "source": [
    "print(deltaG)\n",
    "deltaG = deltaG * 1000\n",
    "print(deltaG)"
   ]
  },
  {
   "cell_type": "code",
   "execution_count": 6,
   "id": "fd154f39",
   "metadata": {},
   "outputs": [
    {
     "name": "stdout",
     "output_type": "stream",
     "text": [
      "-3640700.0000000005\n",
      "-3640700.0000000005\n",
      "-3640700000.0000005\n"
     ]
    }
   ],
   "source": [
    "print(deltaG)\n",
    "deltaG_joules = deltaG * 1000\n",
    "print(deltaG)\n",
    "print(deltaG_joules)"
   ]
  },
  {
   "cell_type": "markdown",
   "id": "af09a5e1",
   "metadata": {},
   "source": [
    "Assigning multiple variables at once"
   ]
  },
  {
   "cell_type": "code",
   "execution_count": 7,
   "id": "739e1470",
   "metadata": {},
   "outputs": [
    {
     "data": {
      "text/plain": [
       "float"
      ]
     },
     "execution_count": 7,
     "metadata": {},
     "output_type": "execute_result"
    }
   ],
   "source": [
    "type(deltaG)"
   ]
  },
  {
   "cell_type": "code",
   "execution_count": 8,
   "id": "c5603224",
   "metadata": {},
   "outputs": [
    {
     "data": {
      "text/plain": [
       "str"
      ]
     },
     "execution_count": 8,
     "metadata": {},
     "output_type": "execute_result"
    }
   ],
   "source": [
    "deltaG_string = str(deltaG)\n",
    "type(deltaG_string)"
   ]
  },
  {
   "cell_type": "markdown",
   "id": "ebc6ddcd",
   "metadata": {},
   "source": [
    "## List"
   ]
  },
  {
   "cell_type": "code",
   "execution_count": 9,
   "id": "256bcbf2",
   "metadata": {},
   "outputs": [
    {
     "name": "stdout",
     "output_type": "stream",
     "text": [
      "The length of this list is 4\n"
     ]
    }
   ],
   "source": [
    "# This is a list\n",
    "energy_kcal = [-13.4, -2.7, 5.4, 42.1]\n",
    "# I can determine its length\n",
    "energy_length = len(energy_kcal)\n",
    "\n",
    "# print the list length\n",
    "print('The length of this list is', energy_length)"
   ]
  },
  {
   "cell_type": "code",
   "execution_count": 10,
   "id": "bdfe67f3",
   "metadata": {},
   "outputs": [
    {
     "name": "stdout",
     "output_type": "stream",
     "text": [
      "-13.4\n"
     ]
    }
   ],
   "source": [
    "# Print the first element of the list\n",
    "print(energy_kcal[0])"
   ]
  },
  {
   "cell_type": "code",
   "execution_count": 11,
   "id": "2dcc79c5",
   "metadata": {},
   "outputs": [
    {
     "name": "stdout",
     "output_type": "stream",
     "text": [
      "-11.296800000000001\n"
     ]
    }
   ],
   "source": [
    "# Convert the second list element to kilojoules.\n",
    "energy_kilojoules = energy_kcal[1] * 4.184\n",
    "print(energy_kilojoules)"
   ]
  },
  {
   "cell_type": "markdown",
   "id": "4edea743",
   "metadata": {},
   "source": [
    "## Slices"
   ]
  },
  {
   "cell_type": "code",
   "execution_count": 12,
   "id": "0b105912",
   "metadata": {},
   "outputs": [],
   "source": [
    "#new_list = list_name[start:end]"
   ]
  },
  {
   "cell_type": "code",
   "execution_count": 13,
   "id": "15f8a270",
   "metadata": {},
   "outputs": [],
   "source": [
    "short_list = energy_kcal[0:2]"
   ]
  },
  {
   "cell_type": "code",
   "execution_count": 14,
   "id": "5149f6f2",
   "metadata": {},
   "outputs": [
    {
     "name": "stdout",
     "output_type": "stream",
     "text": [
      "[-13.4, -2.7]\n"
     ]
    }
   ],
   "source": [
    "print(short_list)"
   ]
  },
  {
   "cell_type": "code",
   "execution_count": 15,
   "id": "7e5f9225",
   "metadata": {},
   "outputs": [
    {
     "name": "stdout",
     "output_type": "stream",
     "text": [
      "slice1 is [-2.7, 5.4, 42.1]\n",
      "slice2 is [-13.4, -2.7, 5.4]\n"
     ]
    }
   ],
   "source": [
    "slice1 = energy_kcal[1:]\n",
    "slice2 = energy_kcal[:3]\n",
    "print('slice1 is', slice1)\n",
    "print('slice2 is', slice2)"
   ]
  },
  {
   "cell_type": "code",
   "execution_count": 16,
   "id": "fb0a67f8",
   "metadata": {},
   "outputs": [
    {
     "name": "stdout",
     "output_type": "stream",
     "text": [
      "[-13.4, -2.7, 5.4, 42.1]\n",
      "[-13.4, -2.7, 5.4, 42.1]\n"
     ]
    }
   ],
   "source": [
    "print(energy_kcal)\n",
    "energy_kcal[0:2]\n",
    "print(energy_kcal)"
   ]
  },
  {
   "cell_type": "markdown",
   "id": "265fff4d",
   "metadata": {},
   "source": [
    "## Repeating an operation many times: for loops"
   ]
  },
  {
   "cell_type": "code",
   "execution_count": 17,
   "id": "b25dfb84",
   "metadata": {},
   "outputs": [
    {
     "name": "stdout",
     "output_type": "stream",
     "text": [
      "-56.0656\n",
      "-11.296800000000001\n",
      "22.593600000000002\n",
      "176.1464\n"
     ]
    }
   ],
   "source": [
    "for number in energy_kcal:\n",
    "    kJ = number * 4.184\n",
    "    print(kJ)"
   ]
  },
  {
   "cell_type": "markdown",
   "id": "09aabda6",
   "metadata": {},
   "source": [
    "list_name.append(new_thing)"
   ]
  },
  {
   "cell_type": "code",
   "execution_count": 18,
   "id": "63344f9b",
   "metadata": {},
   "outputs": [
    {
     "name": "stdout",
     "output_type": "stream",
     "text": [
      "[-56.0656, -11.296800000000001, 22.593600000000002, 176.1464]\n"
     ]
    }
   ],
   "source": [
    "energy_kJ = []\n",
    "for number in energy_kcal:\n",
    "    kJ = number * 4.184\n",
    "    energy_kJ.append(kJ)\n",
    "\n",
    "print(energy_kJ)"
   ]
  },
  {
   "cell_type": "markdown",
   "id": "eaa45ae2",
   "metadata": {},
   "source": [
    "This code doesn’t work because on the first iteration of our loop, the list energy_kJ doesn’t exist. To make it work, we have to start the list outside of the loop. The list can be blank when we start it, but we have to start it.\n",
    "\n",
    "energy_kJ = []\n"
   ]
  },
  {
   "cell_type": "code",
   "execution_count": 19,
   "id": "ca9ee4eb",
   "metadata": {},
   "outputs": [
    {
     "name": "stdout",
     "output_type": "stream",
     "text": [
      "[-56.0656, -11.296800000000001]\n"
     ]
    }
   ],
   "source": [
    "negative_energy_kJ = []\n",
    "\n",
    "for number in energy_kJ:\n",
    "    if number < 0:\n",
    "        negative_energy_kJ.append(number)\n",
    "\n",
    "print(negative_energy_kJ)"
   ]
  },
  {
   "cell_type": "code",
   "execution_count": 20,
   "id": "f93ed6aa",
   "metadata": {},
   "outputs": [
    {
     "name": "stdout",
     "output_type": "stream",
     "text": [
      "[-56.0656, -11.296800000000001]\n"
     ]
    }
   ],
   "source": [
    "negative_numbers = []\n",
    "for number in energy_kJ:\n",
    "    if number < 0 or number == 0:\n",
    "        negative_numbers.append(number)\n",
    "\n",
    "print(negative_numbers)"
   ]
  },
  {
   "cell_type": "markdown",
   "id": "9a6c115f",
   "metadata": {},
   "source": [
    "The following list contains some floating point numbers and some numbers which have been saved as strings. Copy this list exactly into your code."
   ]
  },
  {
   "cell_type": "code",
   "execution_count": 21,
   "id": "cdd467fc",
   "metadata": {},
   "outputs": [
    {
     "name": "stdout",
     "output_type": "stream",
     "text": [
      "[-12.5, 14.4, 8.1, 42.0]\n"
     ]
    }
   ],
   "source": [
    "data_list = ['-12.5', 14.4, 8.1, '42']\n",
    "number_list = []\n",
    "for item in data_list:\n",
    "    if type(item) is str:\n",
    "        item = float(item)\n",
    "    number_list.append(item)\n",
    "\n",
    "print(number_list)"
   ]
  },
  {
   "cell_type": "markdown",
   "id": "580cb2d7",
   "metadata": {},
   "source": [
    "# File Parsing"
   ]
  },
  {
   "cell_type": "code",
   "execution_count": 22,
   "id": "7d52d563",
   "metadata": {},
   "outputs": [
    {
     "name": "stdout",
     "output_type": "stream",
     "text": [
      " \u001b[0m\u001b[01;34mab_initio_cqed\u001b[0m/   \u001b[01;34mCHEM_6004_Content\u001b[0m/  \u001b[01;32m'Homework 1.ipynb'\u001b[0m*\r\n",
      " \u001b[01;34mChem_5200_2024\u001b[0m/   \u001b[01;34mcms-workshop\u001b[0m/        \u001b[01;32mREADME.md\u001b[0m*\r\n"
     ]
    }
   ],
   "source": [
    "ls"
   ]
  },
  {
   "cell_type": "code",
   "execution_count": 24,
   "id": "05fefcf4",
   "metadata": {},
   "outputs": [
    {
     "name": "stdout",
     "output_type": "stream",
     "text": [
      " \u001b[0m\u001b[01;34mdata\u001b[0m/   \u001b[01;32mdata.zip\u001b[0m*  \u001b[01;32m'MOlssi workshop.ipynb'\u001b[0m*\r\n"
     ]
    }
   ],
   "source": [
    "ls cms-workshop"
   ]
  },
  {
   "cell_type": "code",
   "execution_count": 25,
   "id": "fcc12ae8",
   "metadata": {},
   "outputs": [
    {
     "name": "stdout",
     "output_type": "stream",
     "text": [
      "ls: cannot access 'data': No such file or directory\r\n"
     ]
    }
   ],
   "source": [
    "ls data"
   ]
  },
  {
   "cell_type": "code",
   "execution_count": 26,
   "id": "ea7e1b2f",
   "metadata": {},
   "outputs": [
    {
     "data": {
      "text/plain": [
       "'/home/jovyan/work/CompChem2024'"
      ]
     },
     "execution_count": 26,
     "metadata": {},
     "output_type": "execute_result"
    }
   ],
   "source": [
    "pwd"
   ]
  },
  {
   "cell_type": "code",
   "execution_count": 29,
   "id": "42e06de7",
   "metadata": {},
   "outputs": [
    {
     "name": "stdout",
     "output_type": "stream",
     "text": [
      "cms-workshop/data/outfiles/ethanol.out\n"
     ]
    }
   ],
   "source": [
    "import os\n",
    "\n",
    "ethanol_file = os.path.join('cms-workshop','data', 'outfiles','ethanol.out')\n",
    "print(ethanol_file)"
   ]
  },
  {
   "cell_type": "code",
   "execution_count": 30,
   "id": "b1dd8ffe",
   "metadata": {},
   "outputs": [],
   "source": [
    "outfile = open(ethanol_file,\"r\")\n",
    "data = outfile.readlines()"
   ]
  },
  {
   "cell_type": "markdown",
   "id": "498a6743",
   "metadata": {},
   "source": [
    "Exercise:Check that your file was read in correctly by determining how many lines are in the file."
   ]
  },
  {
   "cell_type": "code",
   "execution_count": 31,
   "id": "497ea5c1",
   "metadata": {},
   "outputs": [
    {
     "name": "stdout",
     "output_type": "stream",
     "text": [
      "270\n"
     ]
    }
   ],
   "source": [
    "print(len(data))"
   ]
  },
  {
   "cell_type": "code",
   "execution_count": 32,
   "id": "d7f30381",
   "metadata": {},
   "outputs": [
    {
     "name": "stdout",
     "output_type": "stream",
     "text": [
      "\n",
      "\n",
      "    -----------------------------------------------------------------------\n",
      "\n",
      "          Psi4: An Open-Source Ab Initio Electronic Structure Package\n",
      "\n",
      "                               Psi4 1.1 release\n",
      "\n",
      "\n",
      "\n",
      "                         Git: Rev {HEAD} add49b9 \n",
      "\n",
      "\n",
      "\n",
      "\n",
      "\n",
      "    R. M. Parrish, L. A. Burns, D. G. A. Smith, A. C. Simmonett,\n",
      "\n",
      "    A. E. DePrince III, E. G. Hohenstein, U. Bozkaya, A. Yu. Sokolov,\n",
      "\n",
      "    R. Di Remigio, R. M. Richard, J. F. Gonthier, A. M. James,\n",
      "\n",
      "    H. R. McAlexander, A. Kumar, M. Saitow, X. Wang, B. P. Pritchard,\n",
      "\n",
      "    P. Verma, H. F. Schaefer III, K. Patkowski, R. A. King, E. F. Valeev,\n",
      "\n",
      "    F. A. Evangelista, J. M. Turney, T. D. Crawford, and C. D. Sherrill,\n",
      "\n",
      "    J. Chem. Theory Comput. in press (2017).\n",
      "\n",
      "    (doi: 10.1021/acs.jctc.7b00174)\n",
      "\n",
      "\n",
      "\n",
      "    -----------------------------------------------------------------------\n",
      "\n",
      "\n",
      "\n",
      "\n",
      "\n",
      "    Psi4 started on: Tuesday, 27 June 2017 12:10PM\n",
      "\n",
      "\n",
      "\n",
      "    Process ID:  10591\n",
      "\n",
      "    PSIDATADIR: /Users/armcdona/psi4conda/share/psi4\n",
      "\n",
      "    Memory:     500.0 MiB\n",
      "\n",
      "    Threads:    1\n",
      "\n",
      "    \n",
      "\n",
      "  ==> Input File <==\n",
      "\n",
      "\n",
      "\n",
      "--------------------------------------------------------------------------\n",
      "\n",
      "#! You can write anything you want; this is a test\n",
      "\n",
      "\n",
      "\n",
      "molecule ethanol {\n",
      "\n",
      "H        0.011242      0.005860      0.004848\n",
      "\n",
      "C       -0.013516     -0.004055      1.099557\n",
      "\n",
      "H        1.026838      0.005859      1.441119\n",
      "\n",
      "H       -0.508712      0.905913      1.449714\n",
      "\n",
      "C       -0.729377     -1.238026      1.605747\n",
      "\n",
      "H       -1.761756     -1.258491      1.244036\n",
      "\n",
      "H       -0.732480     -1.258491      2.699654\n",
      "\n",
      "O       -0.054692     -2.392519      1.128673\n",
      "\n",
      "H       -0.536299     -3.165575      1.469220\n",
      "\n",
      "}\n",
      "\n",
      "\n",
      "\n",
      "set basis cc-pVDZ\n",
      "\n",
      "energy('scf')--------------------------------------------------------------------------\n",
      "\n",
      "\n",
      "\n",
      "*** tstart() called on csm-armcdona-m1\n",
      "\n",
      "*** at Tue Jun 27 12:10:00 2017\n",
      "\n",
      "\n",
      "\n",
      "   => Loading Basis Set <=\n",
      "\n",
      "\n",
      "\n",
      "    Name: CC-PVDZ\n",
      "\n",
      "    Role: ORBITAL\n",
      "\n",
      "    Keyword: BASIS\n",
      "\n",
      "    atoms 1, 3-4, 6-7, 9 entry H          line    20 file /Users/armcdona/psi4conda/share/psi4/basis/cc-pvdz.gbs \n",
      "\n",
      "    atoms 2, 5           entry C          line   130 file /Users/armcdona/psi4conda/share/psi4/basis/cc-pvdz.gbs \n",
      "\n",
      "    atoms 8              entry O          line   190 file /Users/armcdona/psi4conda/share/psi4/basis/cc-pvdz.gbs \n",
      "\n",
      "\n",
      "\n",
      "    There are an even number of electrons - assuming singlet.\n",
      "\n",
      "    Specify the multiplicity in the molecule input block.\n",
      "\n",
      "\n",
      "\n",
      "\n",
      "\n",
      "         ---------------------------------------------------------\n",
      "\n",
      "                                   SCF\n",
      "\n",
      "            by Justin Turney, Rob Parrish, and Andy Simmonett\n",
      "\n",
      "                              RHF Reference\n",
      "\n",
      "                        1 Threads,    500 MiB Core\n",
      "\n",
      "         ---------------------------------------------------------\n",
      "\n",
      "\n",
      "\n",
      "  ==> Geometry <==\n",
      "\n",
      "\n",
      "\n",
      "    Molecular point group: c1\n",
      "\n",
      "    Full point group: C1\n",
      "\n",
      "\n",
      "\n",
      "    Geometry (in Angstrom), charge = 0, multiplicity = 1:\n",
      "\n",
      "\n",
      "\n",
      "       Center              X                  Y                   Z               Mass       \n",
      "\n",
      "    ------------   -----------------  -----------------  -----------------  -----------------\n",
      "\n",
      "           H          0.278612764252     1.265047047666    -1.274211449480     1.007825032070\n",
      "\n",
      "           C          0.253854764252     1.255132047666    -0.179502449480    12.000000000000\n",
      "\n",
      "           H          1.294208764252     1.265046047666     0.162059550520     1.007825032070\n",
      "\n",
      "           H         -0.241341235748     2.165100047666     0.170654550520     1.007825032070\n",
      "\n",
      "           C         -0.462006235748     0.021161047666     0.326687550520    12.000000000000\n",
      "\n",
      "           H         -1.494385235748     0.000696047666    -0.035023449480     1.007825032070\n",
      "\n",
      "           H         -0.465109235748     0.000696047666     1.420594550520     1.007825032070\n",
      "\n",
      "           O          0.212678764252    -1.133331952334    -0.150386449480    15.994914619560\n",
      "\n",
      "           H         -0.268928235748    -1.906387952334     0.190160550520     1.007825032070\n",
      "\n",
      "\n",
      "\n",
      "  Running in c1 symmetry.\n",
      "\n",
      "\n",
      "\n",
      "  Rotational constants: A =      1.19639  B =      0.31014  C =      0.27136 [cm^-1]\n",
      "\n",
      "  Rotational constants: A =  35866.92932  B =   9297.74675  C =   8135.03541 [MHz]\n",
      "\n",
      "  Nuclear repulsion =   81.804973313181932\n",
      "\n",
      "\n",
      "\n",
      "  Charge       = 0\n",
      "\n",
      "  Multiplicity = 1\n",
      "\n",
      "  Electrons    = 26\n",
      "\n",
      "  Nalpha       = 13\n",
      "\n",
      "  Nbeta        = 13\n",
      "\n",
      "\n",
      "\n",
      "  ==> Algorithm <==\n",
      "\n",
      "\n",
      "\n",
      "  SCF Algorithm Type is DF.\n",
      "\n",
      "  DIIS enabled.\n",
      "\n",
      "  MOM disabled.\n",
      "\n",
      "  Fractional occupation disabled.\n",
      "\n",
      "  Guess Type is SAD.\n",
      "\n",
      "  Energy threshold   = 1.00e-06\n",
      "\n",
      "  Density threshold  = 1.00e-06\n",
      "\n",
      "  Integral threshold = 0.00e+00\n",
      "\n",
      "\n",
      "\n",
      "  ==> Primary Basis <==\n",
      "\n",
      "\n",
      "\n",
      "  Basis Set: CC-PVDZ\n",
      "\n",
      "    Blend: CC-PVDZ\n",
      "\n",
      "    Number of shells: 36\n",
      "\n",
      "    Number of basis function: 72\n",
      "\n",
      "    Number of Cartesian functions: 75\n",
      "\n",
      "    Spherical Harmonics?: true\n",
      "\n",
      "    Max angular momentum: 2\n",
      "\n",
      "\n",
      "\n",
      "   => Loading Basis Set <=\n",
      "\n",
      "\n",
      "\n",
      "    Name: (CC-PVDZ AUX)\n",
      "\n",
      "    Role: JKFIT\n",
      "\n",
      "    Keyword: DF_BASIS_SCF\n",
      "\n",
      "    atoms 1, 3-4, 6-7, 9 entry H          line    50 file /Users/armcdona/psi4conda/share/psi4/basis/cc-pvdz-jkfit.gbs \n",
      "\n",
      "    atoms 2, 5           entry C          line   120 file /Users/armcdona/psi4conda/share/psi4/basis/cc-pvdz-jkfit.gbs \n",
      "\n",
      "    atoms 8              entry O          line   220 file /Users/armcdona/psi4conda/share/psi4/basis/cc-pvdz-jkfit.gbs \n",
      "\n",
      "\n",
      "\n",
      "  ==> Pre-Iterations <==\n",
      "\n",
      "\n",
      "\n",
      "   -------------------------------------------------------\n",
      "\n",
      "    Irrep   Nso     Nmo     Nalpha   Nbeta   Ndocc  Nsocc\n",
      "\n",
      "   -------------------------------------------------------\n",
      "\n",
      "     A         72      72       0       0       0       0\n",
      "\n",
      "   -------------------------------------------------------\n",
      "\n",
      "    Total      72      72      13      13      13       0\n",
      "\n",
      "   -------------------------------------------------------\n",
      "\n",
      "\n",
      "\n",
      "  ==> Integral Setup <==\n",
      "\n",
      "\n",
      "\n",
      "  ==> DFJK: Density-Fitted J/K Matrices <==\n",
      "\n",
      "\n",
      "\n",
      "    J tasked:                  Yes\n",
      "\n",
      "    K tasked:                  Yes\n",
      "\n",
      "    wK tasked:                  No\n",
      "\n",
      "    OpenMP threads:              1\n",
      "\n",
      "    Integrals threads:           1\n",
      "\n",
      "    Memory (MB):               375\n",
      "\n",
      "    Algorithm:                Core\n",
      "\n",
      "    Integral Cache:           NONE\n",
      "\n",
      "    Schwarz Cutoff:          1E-12\n",
      "\n",
      "    Fitting Condition:       1E-12\n",
      "\n",
      "\n",
      "\n",
      "   => Auxiliary Basis Set <=\n",
      "\n",
      "\n",
      "\n",
      "  Basis Set: (CC-PVDZ AUX)\n",
      "\n",
      "    Blend: CC-PVDZ-JKFIT\n",
      "\n",
      "    Number of shells: 126\n",
      "\n",
      "    Number of basis function: 348\n",
      "\n",
      "    Number of Cartesian functions: 393\n",
      "\n",
      "    Spherical Harmonics?: true\n",
      "\n",
      "    Max angular momentum: 3\n",
      "\n",
      "\n",
      "\n",
      "  Minimum eigenvalue in the overlap matrix is 6.1615207161E-03.\n",
      "\n",
      "  Using Symmetric Orthogonalization.\n",
      "\n",
      "\n",
      "\n",
      "  SCF Guess: Superposition of Atomic Densities via on-the-fly atomic UHF.\n",
      "\n",
      "\n",
      "\n",
      "  ==> Iterations <==\n",
      "\n",
      "\n",
      "\n",
      "                           Total Energy        Delta E     RMS |[F,P]|\n",
      "\n",
      "\n",
      "\n",
      "   @DF-RHF iter   0:  -155.10365249375823   -1.55104e+02   4.53015e-02 \n",
      "\n",
      "   @DF-RHF iter   1:  -154.01069491612421    1.09296e+00   4.72706e-03 \n",
      "\n",
      "   @DF-RHF iter   2:  -154.08072318140574   -7.00283e-02   1.85857e-03 DIIS\n",
      "\n",
      "   @DF-RHF iter   3:  -154.08948719255255   -8.76401e-03   6.74889e-04 DIIS\n",
      "\n",
      "   @DF-RHF iter   4:  -154.09117177055145   -1.68458e-03   1.58963e-04 DIIS\n",
      "\n",
      "   @DF-RHF iter   5:  -154.09128893560870   -1.17165e-04   4.54749e-05 DIIS\n",
      "\n",
      "   @DF-RHF iter   6:  -154.09130079349944   -1.18579e-05   1.31995e-05 DIIS\n",
      "\n",
      "   @DF-RHF iter   7:  -154.09130170057145   -9.07072e-07   2.83994e-06 DIIS\n",
      "\n",
      "   @DF-RHF iter   8:  -154.09130176573018   -6.51587e-08   7.05545e-07 DIIS\n",
      "\n",
      "\n",
      "\n",
      "  ==> Post-Iterations <==\n",
      "\n",
      "\n",
      "\n",
      "    Orbital Energies (a.u.)\n",
      "\n",
      "    -----------------------\n",
      "\n",
      "\n",
      "\n",
      "    Doubly Occupied:                                                      \n",
      "\n",
      "\n",
      "\n",
      "       1A    -20.546800     2A    -11.275095     3A    -11.219194  \n",
      "\n",
      "       4A     -1.348904     5A     -1.008482     6A     -0.830928  \n",
      "\n",
      "       7A     -0.687787     8A     -0.642241     9A     -0.566722  \n",
      "\n",
      "      10A     -0.530314    11A     -0.519527    12A     -0.481883  \n",
      "\n",
      "      13A     -0.433845  \n",
      "\n",
      "\n",
      "\n",
      "    Virtual:                                                              \n",
      "\n",
      "\n",
      "\n",
      "      14A      0.180940    15A      0.215018    16A      0.246070  \n",
      "\n",
      "      17A      0.251127    18A      0.267963    19A      0.292938  \n",
      "\n",
      "      20A      0.381996    21A      0.396231    22A      0.603706  \n",
      "\n",
      "      23A      0.615847    24A      0.664225    25A      0.752044  \n",
      "\n",
      "      26A      0.757291    27A      0.804155    28A      0.864841  \n",
      "\n",
      "      29A      0.872855    30A      0.889502    31A      0.896591  \n",
      "\n",
      "      32A      0.907855    33A      0.940941    34A      1.131195  \n",
      "\n",
      "      35A      1.155522    36A      1.172297    37A      1.258058  \n",
      "\n",
      "      38A      1.331160    39A      1.426371    40A      1.468358  \n",
      "\n",
      "      41A      1.517174    42A      1.567678    43A      1.599506  \n",
      "\n",
      "      44A      1.691808    45A      1.783132    46A      1.866083  \n",
      "\n",
      "      47A      1.890906    48A      1.892378    49A      1.915291  \n",
      "\n",
      "      50A      1.939375    51A      1.972358    52A      1.983727  \n",
      "\n",
      "      53A      2.003589    54A      2.100718    55A      2.199911  \n",
      "\n",
      "      56A      2.243703    57A      2.282336    58A      2.316926  \n",
      "\n",
      "      59A      2.469974    60A      2.516843    61A      2.524986  \n",
      "\n",
      "      62A      2.586064    63A      2.756948    64A      2.775491  \n",
      "\n",
      "      65A      2.808122    66A      2.899507    67A      2.915802  \n",
      "\n",
      "      68A      3.330513    69A      3.407987    70A      3.474254  \n",
      "\n",
      "      71A      3.601498    72A      4.107129  \n",
      "\n",
      "\n",
      "\n",
      "    Final Occupation by Irrep:\n",
      "\n",
      "              A \n",
      "\n",
      "    DOCC [    13 ]\n",
      "\n",
      "\n",
      "\n",
      "  Energy converged.\n",
      "\n",
      "\n",
      "\n",
      "  @DF-RHF Final Energy:  -154.09130176573018\n",
      "\n",
      "\n",
      "\n",
      "   => Energetics <=\n",
      "\n",
      "\n",
      "\n",
      "    Nuclear Repulsion Energy =             81.8049733131819323\n",
      "\n",
      "    One-Electron Energy =                -371.6091065733360210\n",
      "\n",
      "    Two-Electron Energy =                 135.7128314944239378\n",
      "\n",
      "    DFT Exchange-Correlation Energy =       0.0000000000000000\n",
      "\n",
      "    Empirical Dispersion Energy =           0.0000000000000000\n",
      "\n",
      "    PCM Polarization Energy =               0.0000000000000000\n",
      "\n",
      "    EFP Energy =                            0.0000000000000000\n",
      "\n",
      "    Total Energy =                       -154.0913017657301793\n",
      "\n",
      "\n",
      "\n",
      "\n",
      "\n",
      "\n",
      "\n",
      "Properties will be evaluated at   0.000000,   0.000000,   0.000000 Bohr\n",
      "\n",
      "\n",
      "\n",
      "Properties computed using the SCF density matrix\n",
      "\n",
      "\n",
      "\n",
      "  Nuclear Dipole Moment: (a.u.)\n",
      "\n",
      "     X:    -0.8398      Y:     2.6103      Z:     0.5939\n",
      "\n",
      "\n",
      "\n",
      "  Electronic Dipole Moment: (a.u.)\n",
      "\n",
      "     X:     0.2905      Y:    -2.6019      Z:    -0.2054\n",
      "\n",
      "\n",
      "\n",
      "  Dipole Moment: (a.u.)\n",
      "\n",
      "     X:    -0.5493      Y:     0.0084      Z:     0.3884     Total:     0.6728\n",
      "\n",
      "\n",
      "\n",
      "  Dipole Moment: (Debye)\n",
      "\n",
      "     X:    -1.3962      Y:     0.0213      Z:     0.9873     Total:     1.7101\n",
      "\n",
      "\n",
      "\n",
      "\n",
      "\n",
      "*** tstop() called on csm-armcdona-m1 at Tue Jun 27 12:10:01 2017\n",
      "\n",
      "Module time:\n",
      "\n",
      "\tuser time   =       1.10 seconds =       0.02 minutes\n",
      "\n",
      "\tsystem time =       0.06 seconds =       0.00 minutes\n",
      "\n",
      "\ttotal time  =          1 seconds =       0.02 minutes\n",
      "\n",
      "Total time:\n",
      "\n",
      "\tuser time   =       1.10 seconds =       0.02 minutes\n",
      "\n",
      "\tsystem time =       0.06 seconds =       0.00 minutes\n",
      "\n",
      "\ttotal time  =          1 seconds =       0.02 minutes\n",
      "\n",
      "\n",
      "\n",
      "*** Psi4 exiting successfully. Buy a developer a beer!\n",
      "\n"
     ]
    }
   ],
   "source": [
    "# Searching for a pattern in your file\n",
    "for line in data:\n",
    "    print(line)"
   ]
  },
  {
   "cell_type": "code",
   "execution_count": 33,
   "id": "a5d88e75",
   "metadata": {},
   "outputs": [
    {
     "name": "stdout",
     "output_type": "stream",
     "text": [
      "  @DF-RHF Final Energy:  -154.09130176573018\n",
      "\n"
     ]
    }
   ],
   "source": [
    "for line in data:\n",
    "    if 'Final Energy' in line:\n",
    "        energy_line = line\n",
    "        print(energy_line)"
   ]
  },
  {
   "cell_type": "code",
   "execution_count": 34,
   "id": "a2376828",
   "metadata": {},
   "outputs": [
    {
     "data": {
      "text/plain": [
       "['@DF-RHF', 'Final', 'Energy:', '-154.09130176573018']"
      ]
     },
     "execution_count": 34,
     "metadata": {},
     "output_type": "execute_result"
    }
   ],
   "source": [
    "energy_line.split()"
   ]
  },
  {
   "cell_type": "code",
   "execution_count": 35,
   "id": "6edfb22f",
   "metadata": {},
   "outputs": [
    {
     "data": {
      "text/plain": [
       "['  @DF-RHF Final Energy', '  -154.09130176573018\\n']"
      ]
     },
     "execution_count": 35,
     "metadata": {},
     "output_type": "execute_result"
    }
   ],
   "source": [
    "energy_line.split(':')"
   ]
  },
  {
   "cell_type": "code",
   "execution_count": 36,
   "id": "14e7aa7d",
   "metadata": {},
   "outputs": [
    {
     "name": "stdout",
     "output_type": "stream",
     "text": [
      "['@DF-RHF', 'Final', 'Energy:', '-154.09130176573018']\n"
     ]
    }
   ],
   "source": [
    "words = energy_line.split()\n",
    "print(words)"
   ]
  },
  {
   "cell_type": "code",
   "execution_count": 38,
   "id": "2e5e813b",
   "metadata": {},
   "outputs": [
    {
     "name": "stdout",
     "output_type": "stream",
     "text": [
      "-154.09130176573018\n"
     ]
    }
   ],
   "source": [
    "# Spliting \n",
    "energy = words[3]\n",
    "print(energy)\n"
   ]
  },
  {
   "cell_type": "code",
   "execution_count": 40,
   "id": "71450f20",
   "metadata": {},
   "outputs": [
    {
     "name": "stdout",
     "output_type": "stream",
     "text": [
      "-154.09130176573018\n"
     ]
    }
   ],
   "source": [
    "# Negative Indexing\n",
    "energy = words[-1]\n",
    "print(energy)\n"
   ]
  },
  {
   "cell_type": "markdown",
   "id": "0e9d721e",
   "metadata": {},
   "source": [
    "Exercise: Use the provided sapt.out file. In this output file, the program calculates the interaction energy for an ethene-ethyne complex. The output reports four interaction energy components: electrostatics, induction, exchange, and dispersion. Parse each of these energies, in kcal/mole, from the output file. (Hint: study the file in a text editor to help you decide what to search for.) Calculate the total interaction energy by adding the four components together. Your code’s output should look something like this:\n",
    "Electrostatics : -2.25850118 kcal/mol\n",
    "Exchange : 2.27730198 kcal/mol\n",
    "Induction : -0.5216933 kcal/mol\n",
    "Dispersion : -0.9446677 kcal/mol\n",
    "Total Energy : 1.4475602000000003 kcal/mol"
   ]
  },
  {
   "cell_type": "code",
   "execution_count": 42,
   "id": "aef548d1",
   "metadata": {},
   "outputs": [
    {
     "data": {
      "text/plain": [
       "'/home/jovyan/work/CompChem2024'"
      ]
     },
     "execution_count": 42,
     "metadata": {},
     "output_type": "execute_result"
    }
   ],
   "source": [
    "pwd"
   ]
  },
  {
   "cell_type": "code",
   "execution_count": 130,
   "id": "bce1c14f",
   "metadata": {},
   "outputs": [
    {
     "name": "stdout",
     "output_type": "stream",
     "text": [
      "Electrostatics : -2.25850118 kcal/mol\n",
      "Exchange : 2.27730198 kcal/mol\n",
      "Induction : -0.5216933 kcal/mol\n",
      "Dispersion : -0.9446677 kcal/mol\n",
      "Electrostatics : Unable to convert to float\n",
      "Exchange : Unable to convert to float\n",
      "Induction : Unable to convert to float\n",
      "Dispersion : Unable to convert to float\n",
      "Total Energy : -1.4475602000000003 kcal/mol\n"
     ]
    }
   ],
   "source": [
    "important_lines = []\n",
    "energies = []\n",
    "\n",
    "with open('cms-workshop/data/sapt.out') as saptout:\n",
    "    for line in saptout:\n",
    "        if 'Electrostatics' in line:\n",
    "            electro_line = line\n",
    "            important_lines.append(electro_line)\n",
    "        if 'Exchange' in line:\n",
    "            exchange_line = line\n",
    "            important_lines.append(exchange_line)\n",
    "        if 'Induction' in line:\n",
    "            induction_line = line\n",
    "            important_lines.append(induction_line)\n",
    "        if 'Dispersion' in line:\n",
    "            dispersion_line = line\n",
    "            important_lines.append(dispersion_line)\n",
    "\n",
    "for line in important_lines:\n",
    "    words = line.split()\n",
    "    energy_type = words[0]\n",
    "\n",
    "    try:\n",
    "        energy_kcal = float(words[3])\n",
    "        energies.append(energy_kcal)\n",
    "        print('{} : {} kcal/mol'.format(energy_type, energy_kcal))\n",
    "    except ValueError:\n",
    "        print('{} : Unable to convert to float'.format(energy_type))\n",
    "\n",
    "total_energy = sum(energies)\n",
    "print('Total Energy : {} kcal/mol'.format(total_energy))"
   ]
  },
  {
   "cell_type": "markdown",
   "id": "02fdcd5f",
   "metadata": {},
   "source": [
    "## Searching for a particular line number in your file"
   ]
  },
  {
   "cell_type": "code",
   "execution_count": 51,
   "id": "983e64ab",
   "metadata": {},
   "outputs": [
    {
     "name": "stdout",
     "output_type": "stream",
     "text": [
      "77\n",
      "       Center              X                  Y                   Z               Mass       \n",
      "\n"
     ]
    }
   ],
   "source": [
    "for linenum, line in enumerate(data):\n",
    "    if 'Center' in line:\n",
    "        print(linenum)\n",
    "        print(line)"
   ]
  },
  {
   "cell_type": "markdown",
   "id": "e8b79a2c",
   "metadata": {},
   "source": [
    "Exercise: What would be printed if you entered the following:\n",
    "print(data[77])\n",
    "print(data[78])\n",
    "print(data[79])\n",
    "print(data[80])\n",
    "print(data[81])\n"
   ]
  },
  {
   "cell_type": "code",
   "execution_count": 52,
   "id": "a22f3a22",
   "metadata": {},
   "outputs": [
    {
     "name": "stdout",
     "output_type": "stream",
     "text": [
      "       Center              X                  Y                   Z               Mass       \n",
      "\n",
      "    ------------   -----------------  -----------------  -----------------  -----------------\n",
      "\n",
      "           H          0.278612764252     1.265047047666    -1.274211449480     1.007825032070\n",
      "\n",
      "           C          0.253854764252     1.255132047666    -0.179502449480    12.000000000000\n",
      "\n",
      "           H          1.294208764252     1.265046047666     0.162059550520     1.007825032070\n",
      "\n"
     ]
    }
   ],
   "source": [
    "print(data[77])\n",
    "print(data[78])\n",
    "print(data[79])\n",
    "print(data[80])\n",
    "print(data[81])"
   ]
  },
  {
   "cell_type": "code",
   "execution_count": null,
   "id": "fc7bd08e",
   "metadata": {},
   "outputs": [],
   "source": []
  },
  {
   "cell_type": "markdown",
   "id": "f1c0bd96",
   "metadata": {},
   "source": [
    "# Processing Multiple Files and Writing Files"
   ]
  },
  {
   "cell_type": "markdown",
   "id": "b8c4563f",
   "metadata": {},
   "source": [
    "import library_name\n",
    "output = library_name.funtion_name(input)"
   ]
  },
  {
   "cell_type": "code",
   "execution_count": 54,
   "id": "8dd825fe",
   "metadata": {},
   "outputs": [],
   "source": [
    "outfile_directory = os.path.join('data', 'outfiles')"
   ]
  },
  {
   "cell_type": "code",
   "execution_count": 59,
   "id": "d55092cc",
   "metadata": {},
   "outputs": [
    {
     "name": "stdout",
     "output_type": "stream",
     "text": [
      "cms-workshop/data/outfiles/*.out\n"
     ]
    }
   ],
   "source": [
    "file_location = os.path.join('cms-workshop','data', 'outfiles', '*.out')\n",
    "print(file_location)"
   ]
  },
  {
   "cell_type": "code",
   "execution_count": 60,
   "id": "1ca59d93",
   "metadata": {},
   "outputs": [
    {
     "name": "stdout",
     "output_type": "stream",
     "text": [
      "['cms-workshop/data/outfiles/butanol.out', 'cms-workshop/data/outfiles/decanol.out', 'cms-workshop/data/outfiles/ethanol.out', 'cms-workshop/data/outfiles/heptanol.out', 'cms-workshop/data/outfiles/hexanol.out', 'cms-workshop/data/outfiles/methanol.out', 'cms-workshop/data/outfiles/nonanol.out', 'cms-workshop/data/outfiles/octanol.out', 'cms-workshop/data/outfiles/pentanol.out', 'cms-workshop/data/outfiles/propanol.out']\n"
     ]
    }
   ],
   "source": [
    "import glob\n",
    "filenames = glob.glob(file_location)\n",
    "print(filenames)"
   ]
  },
  {
   "cell_type": "code",
   "execution_count": 61,
   "id": "b445c824",
   "metadata": {},
   "outputs": [
    {
     "name": "stdout",
     "output_type": "stream",
     "text": [
      "-232.1655798347283\n",
      "-466.3836241400086\n",
      "-154.09130176573018\n",
      "-349.27397687072676\n",
      "-310.2385332251633\n",
      "-115.04800861868374\n",
      "-427.3465180082815\n",
      "-388.3110864554743\n",
      "-271.20138119895074\n",
      "-193.12836249728798\n"
     ]
    }
   ],
   "source": [
    "for f in filenames:\n",
    "    outfile = open(f,'r')\n",
    "    data = outfile.readlines()\n",
    "    outfile.close()\n",
    "    for line in data:\n",
    "        if 'Final Energy' in line:\n",
    "            energy_line = line\n",
    "            words = energy_line.split()\n",
    "            energy = float(words[3])\n",
    "            print(energy)"
   ]
  },
  {
   "cell_type": "markdown",
   "id": "544cd0c7",
   "metadata": {},
   "source": [
    "Exercise: How would you use the os.path module to point to the directory where your outfiles are?\n"
   ]
  },
  {
   "cell_type": "code",
   "execution_count": 62,
   "id": "ea21e06e",
   "metadata": {},
   "outputs": [
    {
     "name": "stdout",
     "output_type": "stream",
     "text": [
      "cms-workshop/data/outfiles/butanol.out\n",
      "butanol.out\n"
     ]
    }
   ],
   "source": [
    "first_file = filenames[0]\n",
    "print(first_file)\n",
    "\n",
    "file_name = os.path.basename(first_file)\n",
    "print(file_name)"
   ]
  },
  {
   "cell_type": "markdown",
   "id": "bccd1276",
   "metadata": {},
   "source": [
    "Exercise:How would you extract the molecule name from the example above?"
   ]
  },
  {
   "cell_type": "code",
   "execution_count": 63,
   "id": "b7490dc2",
   "metadata": {},
   "outputs": [
    {
     "name": "stdout",
     "output_type": "stream",
     "text": [
      "butanol\n"
     ]
    }
   ],
   "source": [
    "split_filename = file_name.split('.')\n",
    "molecule_name = split_filename[0]\n",
    "print(molecule_name)"
   ]
  },
  {
   "cell_type": "code",
   "execution_count": 64,
   "id": "47322cd6",
   "metadata": {},
   "outputs": [
    {
     "name": "stdout",
     "output_type": "stream",
     "text": [
      "butanol -232.1655798347283\n",
      "butanol -466.3836241400086\n",
      "butanol -154.09130176573018\n",
      "butanol -349.27397687072676\n",
      "butanol -310.2385332251633\n",
      "butanol -115.04800861868374\n",
      "butanol -427.3465180082815\n",
      "butanol -388.3110864554743\n",
      "butanol -271.20138119895074\n",
      "butanol -193.12836249728798\n"
     ]
    }
   ],
   "source": [
    "for f in filenames:\n",
    "    # Get the molecule name\n",
    "    file_name = os.path.basename(f)\n",
    "    split_filname = file_name.split('.')\n",
    "    molecule_name = split_filename[0]\n",
    "\n",
    "    # Read the data\n",
    "    outfile = open(f,'r')\n",
    "    data = outfile.readlines()\n",
    "    outfile.close()\n",
    "\n",
    "    # Loop through the data\n",
    "    for line in data:\n",
    "        if 'Final Energy' in line:\n",
    "            energy_line = line\n",
    "            words = energy_line.split()\n",
    "            energy = float(words[3])\n",
    "            print(molecule_name, energy)"
   ]
  },
  {
   "cell_type": "code",
   "execution_count": 65,
   "id": "028d6bdb",
   "metadata": {},
   "outputs": [],
   "source": [
    "# Printing to a File"
   ]
  },
  {
   "cell_type": "code",
   "execution_count": 66,
   "id": "f207de29",
   "metadata": {},
   "outputs": [],
   "source": [
    "filehandle = open('file_name.txt', 'w+')"
   ]
  },
  {
   "cell_type": "code",
   "execution_count": 67,
   "id": "43a93c2d",
   "metadata": {},
   "outputs": [],
   "source": [
    "datafile = open('energies.txt','w+')  #This opens the file for writing\n",
    "for f in filenames:\n",
    "    # Get the molecule name\n",
    "    file_name = os.path.basename(f)\n",
    "    split_filename = file_name.split('.')\n",
    "    molecule_name = split_filename[0]\n",
    "\n",
    "    # Read the data\n",
    "    outfile = open(f,'r')\n",
    "    data = outfile.readlines()\n",
    "    outfile.close()\n",
    "\n",
    "    # Loop through the data\n",
    "    for line in data:\n",
    "        if 'Final Energy' in line:\n",
    "            energy_line = line\n",
    "            words = energy_line.split()\n",
    "            energy = float(words[3])\n",
    "            datafile.write(F'{molecule_name} \\t {energy} \\n')\n",
    "datafile.close()\n"
   ]
  },
  {
   "cell_type": "markdown",
   "id": "caf5665f",
   "metadata": {},
   "source": [
    "Exercise: In the lesson materials, there is a file called 03_Prod.mdout. This is a file output by the Amber molecular dynamics simulation program.\n",
    "If you open the file and look at it, you will see sections which look like this:\n",
    " NSTEP =      100   TIME(PS) =      20.200  TEMP(K) =   296.43  PRESS =  -300.8\n",
    " Etot   =     -4585.1049  EKtot   =      1129.2368  EPtot      =     -5714.3417\n",
    " BOND   =         1.5160  ANGLE   =         6.9846  DIHED      =        11.7108\n",
    " 1-4 NB =         4.3175  1-4 EEL =        49.9911  VDWAALS    =       882.6741\n",
    " EELEC  =     -6671.5358  EHBOND  =         0.0000  RESTRAINT  =         0.0000\n",
    " EKCMT  =       583.7810  VIRIAL  =       786.8823  VOLUME     =     31270.0410\n",
    "                                                    Density    =         0.6104\n",
    " Ewald error estimate:   0.3214E-03\n",
    " ------------------------------------------------------------------------------\n",
    "Your assignment is to parse this file, and write a new file containing a list of the > total energies. Name your file Etot.txt. When you open it, it should look like this:\n",
    "-4585.1049\n",
    "-4573.5326\n",
    "-4548.1223\n",
    "-4525.341\n",
    "-4542.8995\n",
    "-4550.9376\n",
    "-4543.8652\n",
    "-4570.4109\n",
    "-4550.4225\n",
    "-4585.2078\n",
    "...\n",
    "... indicates that you will have many more rows. We’ve only shown the first 10 here.\n",
    "If you are unsure of where to start with this assignment, check the hint section!\n"
   ]
  },
  {
   "cell_type": "code",
   "execution_count": 69,
   "id": "3ccb4883",
   "metadata": {},
   "outputs": [
    {
     "name": "stdout",
     "output_type": "stream",
     "text": [
      "-4585.1049\n",
      "-4573.5326\n",
      "-4548.1223\n",
      "-4525.3410\n",
      "-4542.8995\n",
      "-4550.9376\n",
      "-4543.8652\n",
      "-4570.4109\n",
      "-4550.4225\n",
      "-4585.2078\n",
      "-4577.3788\n",
      "-4583.5594\n",
      "-4605.5086\n",
      "-4615.4200\n",
      "-4583.6069\n",
      "-4534.2492\n",
      "-4571.4911\n",
      "-4580.2937\n",
      "-4555.4327\n",
      "-4567.5687\n",
      "-4566.0038\n",
      "-4547.9737\n",
      "-4603.6717\n",
      "-4611.0889\n",
      "-4694.2189\n",
      "-4678.6558\n",
      "-4679.2889\n",
      "-4650.4214\n",
      "-4637.4849\n",
      "-4677.2461\n",
      "-4659.6974\n",
      "-4592.8300\n",
      "-4622.1237\n",
      "-4626.0868\n",
      "-4614.5996\n",
      "-4625.5348\n",
      "-4569.7752\n",
      "-4625.0792\n",
      "-4653.4614\n",
      "-4637.6852\n",
      "-4643.8673\n",
      "-4619.5255\n",
      "-4663.3843\n",
      "-4631.8386\n",
      "-4680.3524\n",
      "-4722.1579\n",
      "-4696.5022\n",
      "-4729.6126\n",
      "-4703.1835\n",
      "-4707.8668\n",
      "-4660.0768\n",
      "-4673.0967\n",
      "-4656.3795\n",
      "-4627.9210\n",
      "-4599.7806\n",
      "-4648.8831\n",
      "-4649.4773\n",
      "-4665.3345\n",
      "-4693.9727\n",
      "-4726.4832\n",
      "-4744.9909\n",
      "-4788.9469\n",
      "-4724.8673\n",
      "-4724.9143\n",
      "-4685.3320\n",
      "-4721.0018\n",
      "-4755.1232\n",
      "-4810.7441\n",
      "-4796.7949\n",
      "-4737.2496\n",
      "-4735.1629\n",
      "-4733.8855\n",
      "-4781.2227\n",
      "-4789.1473\n",
      "-4813.7562\n",
      "-4817.4775\n",
      "-4822.1009\n",
      "-4788.4856\n",
      "-4816.5778\n",
      "-4843.6187\n",
      "-4867.3389\n",
      "-4829.6258\n",
      "-4839.4063\n",
      "-4856.7404\n",
      "-4827.9999\n",
      "-4789.4960\n",
      "-4807.4737\n",
      "-4822.8427\n",
      "-4841.7963\n",
      "-4852.5445\n",
      "-4794.1774\n",
      "-4795.4408\n",
      "-4843.1092\n",
      "-4861.5219\n",
      "-4861.1394\n",
      "-4874.9262\n",
      "-4895.8931\n",
      "-4925.8895\n",
      "-4973.8736\n",
      "-4988.7908\n",
      "-4945.5981\n",
      "-4916.3219\n",
      "-4921.4063\n",
      "-4911.1395\n",
      "-4874.5853\n",
      "-4874.5310\n",
      "-4881.8810\n",
      "-4891.6363\n",
      "-4896.9142\n",
      "-4912.6121\n",
      "-4904.3068\n",
      "-4929.8410\n",
      "-4953.1665\n",
      "-4984.0176\n",
      "-4980.7061\n",
      "-4938.8474\n",
      "-4963.1656\n",
      "-4955.5246\n",
      "-4906.5723\n",
      "-4930.7026\n",
      "-4928.7367\n",
      "-4857.1610\n",
      "-4886.8174\n",
      "-4817.6888\n",
      "-4872.9481\n",
      "-4894.4047\n",
      "-4885.6957\n",
      "-4923.2417\n",
      "-4897.3522\n",
      "-4892.6689\n",
      "-4893.3622\n",
      "-4838.7241\n",
      "-4836.7701\n",
      "-4760.9359\n",
      "-4784.3831\n",
      "-4744.1472\n",
      "-4728.4061\n",
      "-4750.2233\n",
      "-4867.9914\n",
      "-4923.5577\n",
      "-4897.1107\n",
      "-4911.9463\n",
      "-4915.2124\n",
      "-4877.7660\n",
      "-4853.0504\n",
      "-4857.4078\n",
      "-4825.9871\n",
      "-4812.0551\n",
      "-4846.6835\n",
      "-4846.4495\n",
      "-4878.3125\n",
      "-4932.9309\n",
      "-4942.1183\n",
      "-4939.3920\n",
      "-4911.1468\n",
      "-4917.1998\n",
      "-4925.0586\n",
      "-4901.7294\n",
      "-4904.7184\n",
      "-4881.9266\n",
      "-4853.0225\n",
      "-4887.5130\n",
      "-4842.1109\n",
      "-4846.9808\n",
      "-4862.7402\n",
      "-4851.7519\n",
      "-4909.4545\n",
      "-4914.8171\n",
      "-4915.2172\n",
      "-4930.1387\n",
      "-4953.7774\n",
      "-4901.9891\n",
      "-4905.8510\n",
      "-4926.3257\n",
      "-4917.3863\n",
      "-4942.2224\n",
      "-4952.2746\n",
      "-4916.1854\n",
      "-4861.9952\n",
      "-4877.2959\n",
      "-4826.5819\n",
      "-4876.5468\n",
      "-4846.8424\n",
      "-4843.3569\n",
      "-4842.7350\n",
      "-4834.5641\n",
      "-4793.4512\n",
      "-4854.0441\n",
      "-4874.9529\n",
      "-4835.5704\n",
      "-4855.0431\n",
      "-4865.4151\n",
      "-4846.5908\n",
      "-4807.5877\n",
      "-4811.5955\n",
      "-4835.6643\n",
      "-4846.6731\n",
      "-4851.4884\n",
      "-4886.9112\n",
      "-4858.1232\n",
      "-4869.2450\n",
      "-4907.4877\n",
      "-4954.8636\n",
      "-4942.2690\n",
      "-5004.3931\n",
      "-4980.6333\n",
      "-4959.0934\n",
      "-4942.9824\n",
      "-4882.6145\n",
      "-4857.1325\n",
      "-4916.5311\n",
      "-4894.3503\n",
      "-4912.1722\n",
      "-4912.5805\n",
      "-4939.9299\n",
      "-4923.4478\n",
      "-4885.8822\n",
      "-4879.1104\n",
      "-4871.2521\n",
      "-4846.9889\n",
      "-4870.2887\n",
      "-4814.2051\n",
      "-4782.7933\n",
      "-4827.9125\n",
      "-4849.4257\n",
      "-4896.8849\n",
      "-4898.4300\n",
      "-4887.3311\n",
      "-4920.3260\n",
      "-4929.5851\n",
      "-4961.0590\n",
      "-4904.5845\n",
      "-4913.8577\n",
      "-4893.3502\n",
      "-4872.0999\n",
      "-4799.1635\n",
      "-4844.1789\n",
      "-4857.2238\n",
      "-4852.7959\n",
      "-4937.0545\n",
      "-4932.0827\n",
      "-4903.7197\n",
      "-4917.5152\n",
      "-4917.0623\n",
      "-4929.6231\n",
      "-4911.2961\n",
      "-4900.8126\n",
      "-4872.0052\n",
      "-4894.1473\n",
      "-4926.5634\n",
      "-4936.8213\n",
      "-4873.3118\n",
      "-4926.9161\n",
      "-4915.6954\n",
      "-4905.3008\n",
      "-4890.1921\n",
      "-4882.1300\n",
      "-4916.5499\n",
      "-4886.9469\n",
      "-4850.5461\n",
      "-4859.8111\n",
      "-4846.7970\n",
      "-4842.1241\n",
      "-4858.2108\n",
      "-4826.8505\n",
      "-4795.8374\n",
      "-4811.9221\n",
      "-4888.6634\n",
      "-4909.6700\n",
      "-4933.4484\n",
      "-4977.5063\n",
      "-4992.3263\n",
      "-4977.7844\n",
      "-4966.7665\n",
      "-4972.1345\n",
      "-4947.9832\n",
      "-4974.7886\n",
      "-4973.9220\n",
      "-4942.2304\n",
      "-4943.4810\n",
      "-4932.4172\n",
      "-4962.9499\n",
      "-4951.6520\n",
      "-4942.7002\n",
      "-4982.3862\n",
      "-4983.9897\n",
      "-4983.2188\n",
      "-4997.9833\n",
      "-5056.4832\n",
      "-5022.3178\n",
      "-4990.2883\n",
      "-4955.9855\n",
      "-4922.5797\n",
      "-4918.2425\n",
      "-4901.2145\n",
      "-4864.5383\n",
      "-4869.5219\n",
      "-4922.5511\n",
      "-4917.4126\n",
      "-4928.8228\n",
      "-4829.8013\n",
      "120.4662\n"
     ]
    }
   ],
   "source": [
    "import os\n",
    "\n",
    "# Open the file for reading.\n",
    "\n",
    "## Build the file filepath\n",
    "filename = os.path.join('cms-workshop','data', '03_Prod.mdout')\n",
    "\n",
    "# Open the file\n",
    "f = open(filename,'r')\n",
    "\n",
    "# Read the data in the file.\n",
    "data = f.readlines()\n",
    "\n",
    "# Close the file.\n",
    "f.close()\n",
    "\n",
    "# Open a file for writing\n",
    "f_write = open('Etot.txt', 'w+')\n",
    "\n",
    "# Loop through the lines\n",
    "for line in data:\n",
    "    split_line = line.split()\n",
    "    if 'Etot' in line:\n",
    "        print(split_line[2])\n",
    "        f_write.write(f'{split_line[2]}\\n')\n",
    "\n",
    "f_write.close()"
   ]
  },
  {
   "cell_type": "markdown",
   "id": "48e1b074",
   "metadata": {},
   "source": [
    "# Working with Tabular Data"
   ]
  },
  {
   "cell_type": "code",
   "execution_count": 70,
   "id": "f3ac62dd",
   "metadata": {},
   "outputs": [
    {
     "name": "stdout",
     "output_type": "stream",
     "text": [
      "Help on function genfromtxt in module numpy:\n",
      "\n",
      "genfromtxt(fname, dtype=<class 'float'>, comments='#', delimiter=None, skip_header=0, skip_footer=0, converters=None, missing_values=None, filling_values=None, usecols=None, names=None, excludelist=None, deletechars=\" !#$%&'()*+,-./:;<=>?@[\\\\]^{|}~\", replace_space='_', autostrip=False, case_sensitive=True, defaultfmt='f%i', unpack=None, usemask=False, loose=True, invalid_raise=True, max_rows=None, encoding='bytes', *, like=None)\n",
      "    Load data from a text file, with missing values handled as specified.\n",
      "    \n",
      "    Each line past the first `skip_header` lines is split at the `delimiter`\n",
      "    character, and characters following the `comments` character are discarded.\n",
      "    \n",
      "    Parameters\n",
      "    ----------\n",
      "    fname : file, str, pathlib.Path, list of str, generator\n",
      "        File, filename, list, or generator to read.  If the filename\n",
      "        extension is ``.gz`` or ``.bz2``, the file is first decompressed. Note\n",
      "        that generators must return bytes or strings. The strings\n",
      "        in a list or produced by a generator are treated as lines.\n",
      "    dtype : dtype, optional\n",
      "        Data type of the resulting array.\n",
      "        If None, the dtypes will be determined by the contents of each\n",
      "        column, individually.\n",
      "    comments : str, optional\n",
      "        The character used to indicate the start of a comment.\n",
      "        All the characters occurring on a line after a comment are discarded.\n",
      "    delimiter : str, int, or sequence, optional\n",
      "        The string used to separate values.  By default, any consecutive\n",
      "        whitespaces act as delimiter.  An integer or sequence of integers\n",
      "        can also be provided as width(s) of each field.\n",
      "    skiprows : int, optional\n",
      "        `skiprows` was removed in numpy 1.10. Please use `skip_header` instead.\n",
      "    skip_header : int, optional\n",
      "        The number of lines to skip at the beginning of the file.\n",
      "    skip_footer : int, optional\n",
      "        The number of lines to skip at the end of the file.\n",
      "    converters : variable, optional\n",
      "        The set of functions that convert the data of a column to a value.\n",
      "        The converters can also be used to provide a default value\n",
      "        for missing data: ``converters = {3: lambda s: float(s or 0)}``.\n",
      "    missing : variable, optional\n",
      "        `missing` was removed in numpy 1.10. Please use `missing_values`\n",
      "        instead.\n",
      "    missing_values : variable, optional\n",
      "        The set of strings corresponding to missing data.\n",
      "    filling_values : variable, optional\n",
      "        The set of values to be used as default when the data are missing.\n",
      "    usecols : sequence, optional\n",
      "        Which columns to read, with 0 being the first.  For example,\n",
      "        ``usecols = (1, 4, 5)`` will extract the 2nd, 5th and 6th columns.\n",
      "    names : {None, True, str, sequence}, optional\n",
      "        If `names` is True, the field names are read from the first line after\n",
      "        the first `skip_header` lines. This line can optionally be preceded\n",
      "        by a comment delimiter. If `names` is a sequence or a single-string of\n",
      "        comma-separated names, the names will be used to define the field names\n",
      "        in a structured dtype. If `names` is None, the names of the dtype\n",
      "        fields will be used, if any.\n",
      "    excludelist : sequence, optional\n",
      "        A list of names to exclude. This list is appended to the default list\n",
      "        ['return','file','print']. Excluded names are appended with an\n",
      "        underscore: for example, `file` would become `file_`.\n",
      "    deletechars : str, optional\n",
      "        A string combining invalid characters that must be deleted from the\n",
      "        names.\n",
      "    defaultfmt : str, optional\n",
      "        A format used to define default field names, such as \"f%i\" or \"f_%02i\".\n",
      "    autostrip : bool, optional\n",
      "        Whether to automatically strip white spaces from the variables.\n",
      "    replace_space : char, optional\n",
      "        Character(s) used in replacement of white spaces in the variable\n",
      "        names. By default, use a '_'.\n",
      "    case_sensitive : {True, False, 'upper', 'lower'}, optional\n",
      "        If True, field names are case sensitive.\n",
      "        If False or 'upper', field names are converted to upper case.\n",
      "        If 'lower', field names are converted to lower case.\n",
      "    unpack : bool, optional\n",
      "        If True, the returned array is transposed, so that arguments may be\n",
      "        unpacked using ``x, y, z = genfromtxt(...)``.  When used with a\n",
      "        structured data-type, arrays are returned for each field.\n",
      "        Default is False.\n",
      "    usemask : bool, optional\n",
      "        If True, return a masked array.\n",
      "        If False, return a regular array.\n",
      "    loose : bool, optional\n",
      "        If True, do not raise errors for invalid values.\n",
      "    invalid_raise : bool, optional\n",
      "        If True, an exception is raised if an inconsistency is detected in the\n",
      "        number of columns.\n",
      "        If False, a warning is emitted and the offending lines are skipped.\n",
      "    max_rows : int,  optional\n",
      "        The maximum number of rows to read. Must not be used with skip_footer\n",
      "        at the same time.  If given, the value must be at least 1. Default is\n",
      "        to read the entire file.\n",
      "    \n",
      "        .. versionadded:: 1.10.0\n",
      "    encoding : str, optional\n",
      "        Encoding used to decode the inputfile. Does not apply when `fname` is\n",
      "        a file object.  The special value 'bytes' enables backward compatibility\n",
      "        workarounds that ensure that you receive byte arrays when possible\n",
      "        and passes latin1 encoded strings to converters. Override this value to\n",
      "        receive unicode arrays and pass strings as input to converters.  If set\n",
      "        to None the system default is used. The default value is 'bytes'.\n",
      "    \n",
      "        .. versionadded:: 1.14.0\n",
      "    like : array_like\n",
      "        Reference object to allow the creation of arrays which are not\n",
      "        NumPy arrays. If an array-like passed in as ``like`` supports\n",
      "        the ``__array_function__`` protocol, the result will be defined\n",
      "        by it. In this case, it ensures the creation of an array object\n",
      "        compatible with that passed in via this argument.\n",
      "    \n",
      "        .. versionadded:: 1.20.0\n",
      "    \n",
      "    Returns\n",
      "    -------\n",
      "    out : ndarray\n",
      "        Data read from the text file. If `usemask` is True, this is a\n",
      "        masked array.\n",
      "    \n",
      "    See Also\n",
      "    --------\n",
      "    numpy.loadtxt : equivalent function when no data is missing.\n",
      "    \n",
      "    Notes\n",
      "    -----\n",
      "    * When spaces are used as delimiters, or when no delimiter has been given\n",
      "      as input, there should not be any missing data between two fields.\n",
      "    * When the variables are named (either by a flexible dtype or with `names`),\n",
      "      there must not be any header in the file (else a ValueError\n",
      "      exception is raised).\n",
      "    * Individual values are not stripped of spaces by default.\n",
      "      When using a custom converter, make sure the function does remove spaces.\n",
      "    \n",
      "    References\n",
      "    ----------\n",
      "    .. [1] NumPy User Guide, section `I/O with NumPy\n",
      "           <https://docs.scipy.org/doc/numpy/user/basics.io.genfromtxt.html>`_.\n",
      "    \n",
      "    Examples\n",
      "    --------\n",
      "    >>> from io import StringIO\n",
      "    >>> import numpy as np\n",
      "    \n",
      "    Comma delimited file with mixed dtype\n",
      "    \n",
      "    >>> s = StringIO(u\"1,1.3,abcde\")\n",
      "    >>> data = np.genfromtxt(s, dtype=[('myint','i8'),('myfloat','f8'),\n",
      "    ... ('mystring','S5')], delimiter=\",\")\n",
      "    >>> data\n",
      "    array((1, 1.3, b'abcde'),\n",
      "          dtype=[('myint', '<i8'), ('myfloat', '<f8'), ('mystring', 'S5')])\n",
      "    \n",
      "    Using dtype = None\n",
      "    \n",
      "    >>> _ = s.seek(0) # needed for StringIO example only\n",
      "    >>> data = np.genfromtxt(s, dtype=None,\n",
      "    ... names = ['myint','myfloat','mystring'], delimiter=\",\")\n",
      "    >>> data\n",
      "    array((1, 1.3, b'abcde'),\n",
      "          dtype=[('myint', '<i8'), ('myfloat', '<f8'), ('mystring', 'S5')])\n",
      "    \n",
      "    Specifying dtype and names\n",
      "    \n",
      "    >>> _ = s.seek(0)\n",
      "    >>> data = np.genfromtxt(s, dtype=\"i8,f8,S5\",\n",
      "    ... names=['myint','myfloat','mystring'], delimiter=\",\")\n",
      "    >>> data\n",
      "    array((1, 1.3, b'abcde'),\n",
      "          dtype=[('myint', '<i8'), ('myfloat', '<f8'), ('mystring', 'S5')])\n",
      "    \n",
      "    An example with fixed-width columns\n",
      "    \n",
      "    >>> s = StringIO(u\"11.3abcde\")\n",
      "    >>> data = np.genfromtxt(s, dtype=None, names=['intvar','fltvar','strvar'],\n",
      "    ...     delimiter=[1,3,5])\n",
      "    >>> data\n",
      "    array((1, 1.3, b'abcde'),\n",
      "          dtype=[('intvar', '<i8'), ('fltvar', '<f8'), ('strvar', 'S5')])\n",
      "    \n",
      "    An example to show comments\n",
      "    \n",
      "    >>> f = StringIO('''\n",
      "    ... text,# of chars\n",
      "    ... hello world,11\n",
      "    ... numpy,5''')\n",
      "    >>> np.genfromtxt(f, dtype='S12,S12', delimiter=',')\n",
      "    array([(b'text', b''), (b'hello world', b'11'), (b'numpy', b'5')],\n",
      "      dtype=[('f0', 'S12'), ('f1', 'S12')])\n",
      "\n"
     ]
    }
   ],
   "source": [
    "import numpy\n",
    "help(numpy.genfromtxt)"
   ]
  },
  {
   "cell_type": "code",
   "execution_count": 72,
   "id": "0392eaf7",
   "metadata": {},
   "outputs": [
    {
     "name": "stdout",
     "output_type": "stream",
     "text": [
      "[['Frame' 'THR4_ATP' 'THR4_ASP' 'TYR6_ATP' 'TYR6_ASP']\n",
      " ['1' '8.9542' '5.8024' '11.5478' '9.9557']\n",
      " ['2' '8.6181' '6.0942' '13.9594' '11.6945']\n",
      " ...\n",
      " ['9998' '8.6625' '7.7306' '9.5469' '10.3063']\n",
      " ['9999' '9.2456' '7.8886' '9.8151' '10.7564']\n",
      " ['10000' '8.8135' '7.917' '9.9517' '10.7848']]\n"
     ]
    }
   ],
   "source": [
    "import os\n",
    "\n",
    "distance_file = os.path.join('cms-workshop','data', 'distance_data_headers.csv')\n",
    "\n",
    "distances = numpy.genfromtxt(fname=distance_file, delimiter=',', dtype='unicode')\n",
    "print(distances)"
   ]
  },
  {
   "cell_type": "code",
   "execution_count": 73,
   "id": "29938ab1",
   "metadata": {},
   "outputs": [
    {
     "name": "stdout",
     "output_type": "stream",
     "text": [
      "['Frame' 'THR4_ATP' 'THR4_ASP' 'TYR6_ATP' 'TYR6_ASP']\n"
     ]
    }
   ],
   "source": [
    "# Manipulating Tabular Data\n",
    "\n",
    "headers = distances[0]\n",
    "print(headers)"
   ]
  },
  {
   "cell_type": "markdown",
   "id": "7bd8a76b",
   "metadata": {},
   "source": [
    "Exercise: Take a slice of the data that is just the numerical values. To be uniform for later activities, call this slice data."
   ]
  },
  {
   "cell_type": "code",
   "execution_count": 74,
   "id": "09e9cae5",
   "metadata": {},
   "outputs": [
    {
     "name": "stdout",
     "output_type": "stream",
     "text": [
      "[['1' '8.9542' '5.8024' '11.5478' '9.9557']\n",
      " ['2' '8.6181' '6.0942' '13.9594' '11.6945']\n",
      " ['3' '9.0066' '6.0637' '13.0924' '11.3043']\n",
      " ...\n",
      " ['9998' '8.6625' '7.7306' '9.5469' '10.3063']\n",
      " ['9999' '9.2456' '7.8886' '9.8151' '10.7564']\n",
      " ['10000' '8.8135' '7.917' '9.9517' '10.7848']]\n"
     ]
    }
   ],
   "source": [
    "data = distances[1:]\n",
    "print(data)"
   ]
  },
  {
   "cell_type": "code",
   "execution_count": 75,
   "id": "8fc553c8",
   "metadata": {},
   "outputs": [
    {
     "name": "stdout",
     "output_type": "stream",
     "text": [
      "[[1.00000e+00 8.95420e+00 5.80240e+00 1.15478e+01 9.95570e+00]\n",
      " [2.00000e+00 8.61810e+00 6.09420e+00 1.39594e+01 1.16945e+01]\n",
      " [3.00000e+00 9.00660e+00 6.06370e+00 1.30924e+01 1.13043e+01]\n",
      " ...\n",
      " [9.99800e+03 8.66250e+00 7.73060e+00 9.54690e+00 1.03063e+01]\n",
      " [9.99900e+03 9.24560e+00 7.88860e+00 9.81510e+00 1.07564e+01]\n",
      " [1.00000e+04 8.81350e+00 7.91700e+00 9.95170e+00 1.07848e+01]]\n"
     ]
    },
    {
     "name": "stderr",
     "output_type": "stream",
     "text": [
      "/tmp/ipykernel_176/842195255.py:1: DeprecationWarning: `np.float` is a deprecated alias for the builtin `float`. To silence this warning, use `float` by itself. Doing this will not modify any behavior and is safe. If you specifically wanted the numpy scalar type, use `np.float64` here.\n",
      "Deprecated in NumPy 1.20; for more details and guidance: https://numpy.org/devdocs/release/1.20.0-notes.html#deprecations\n",
      "  data = data.astype(numpy.float)\n"
     ]
    }
   ],
   "source": [
    "data = data.astype(numpy.float)\n",
    "print(data)"
   ]
  },
  {
   "cell_type": "markdown",
   "id": "cce77eef",
   "metadata": {},
   "source": [
    " array_name[row,column]"
   ]
  },
  {
   "cell_type": "markdown",
   "id": "7f22a7e0",
   "metadata": {},
   "source": [
    "Exercise:What will be the output of these lines of code?"
   ]
  },
  {
   "cell_type": "code",
   "execution_count": 77,
   "id": "1e2591bc",
   "metadata": {},
   "outputs": [
    {
     "name": "stdout",
     "output_type": "stream",
     "text": [
      "8.9542\n",
      "2.0\n"
     ]
    }
   ],
   "source": [
    "print(data[0,1])\n",
    "print(data[1,0])"
   ]
  },
  {
   "cell_type": "code",
   "execution_count": 78,
   "id": "35dee36f",
   "metadata": {},
   "outputs": [
    {
     "name": "stdout",
     "output_type": "stream",
     "text": [
      "[[ 1.      8.9542  5.8024]\n",
      " [ 2.      8.6181  6.0942]\n",
      " [ 3.      9.0066  6.0637]\n",
      " [ 4.      9.2002  6.0227]\n",
      " [ 5.      9.1294  5.9365]\n",
      " [ 6.      9.0462  6.2553]\n",
      " [ 7.      8.8657  5.9186]\n",
      " [ 8.      9.3256  6.2351]\n",
      " [ 9.      9.4184  6.1993]\n",
      " [10.      9.06    6.0478]]\n"
     ]
    }
   ],
   "source": [
    "small_data = data[0:10,0:3]\n",
    "print(small_data)"
   ]
  },
  {
   "cell_type": "code",
   "execution_count": 79,
   "id": "9cf4c2f9",
   "metadata": {},
   "outputs": [
    {
     "name": "stdout",
     "output_type": "stream",
     "text": [
      "10.876950930000001\n"
     ]
    }
   ],
   "source": [
    "# Analyzing Tabular Data\n",
    "\n",
    "thr4_atp = data[:,1]  # Every row, just the THR4_ATP column\n",
    "avg_thr4_atp = numpy.mean(thr4_atp)\n",
    "print(avg_thr4_atp)"
   ]
  },
  {
   "cell_type": "markdown",
   "id": "d9ebe862",
   "metadata": {},
   "source": [
    "Exercise: Determine the number of columns in our data set. Save this value as a variable called num_columns.\n"
   ]
  },
  {
   "cell_type": "code",
   "execution_count": 80,
   "id": "abeb3a5c",
   "metadata": {},
   "outputs": [
    {
     "name": "stdout",
     "output_type": "stream",
     "text": [
      "5\n"
     ]
    }
   ],
   "source": [
    "num_columns = len(data[0,:])  #This calculates the number of columns\n",
    "print(num_columns)"
   ]
  },
  {
   "cell_type": "code",
   "execution_count": 81,
   "id": "131ccbad",
   "metadata": {},
   "outputs": [
    {
     "name": "stdout",
     "output_type": "stream",
     "text": [
      "THR4_ATP : 10.876950930000001\n",
      "THR4_ASP : 7.342344959999999\n",
      "TYR6_ATP : 11.209791329999998\n",
      "TYR6_ASP : 10.9934435\n"
     ]
    }
   ],
   "source": [
    "for i in range(1,num_columns):\n",
    "    column = data[:,i]\n",
    "    avg_col = numpy.mean(column)\n",
    "    print(F'{headers[i]} : {avg_col}')"
   ]
  },
  {
   "cell_type": "markdown",
   "id": "59137168",
   "metadata": {},
   "source": [
    "Exercise:  Write a code to read in the information from the xyz file and determine the bond lengths between all the atoms. There is a numpy function to take the square root, numpy.sqrt(). To raise a number to a power, use **, as in 3**2 = 9. Your code output should look something like this."
   ]
  },
  {
   "cell_type": "code",
   "execution_count": 83,
   "id": "d668657d",
   "metadata": {},
   "outputs": [
    {
     "name": "stdout",
     "output_type": "stream",
     "text": [
      "O to O : 0.000\n",
      "O to H1 : 0.969\n",
      "O to H2 : 0.969\n",
      "H1 to O : 0.969\n",
      "H1 to H1 : 0.000\n",
      "H1 to H2 : 1.527\n",
      "H2 to O : 0.969\n",
      "H2 to H1 : 1.527\n",
      "H2 to H2 : 0.000\n"
     ]
    },
    {
     "name": "stderr",
     "output_type": "stream",
     "text": [
      "/tmp/ipykernel_176/4243606984.py:8: DeprecationWarning: `np.float` is a deprecated alias for the builtin `float`. To silence this warning, use `float` by itself. Doing this will not modify any behavior and is safe. If you specifically wanted the numpy scalar type, use `np.float64` here.\n",
      "Deprecated in NumPy 1.20; for more details and guidance: https://numpy.org/devdocs/release/1.20.0-notes.html#deprecations\n",
      "  coordinates = coordinates.astype(numpy.float)\n"
     ]
    }
   ],
   "source": [
    "import numpy\n",
    "import os\n",
    "\n",
    "file_location = os.path.join('cms-workshop','data', 'water.xyz')\n",
    "xyz_file = numpy.genfromtxt(fname=file_location, skip_header=2,  dtype='unicode')\n",
    "symbols = xyz_file[:,0]\n",
    "coordinates = (xyz_file[:,1:])\n",
    "coordinates = coordinates.astype(numpy.float)\n",
    "num_atoms = len(symbols)\n",
    "for num1 in range(0,num_atoms):\n",
    "    for num2 in range(0,num_atoms):\n",
    "        x_distance = coordinates[num1,0] - coordinates[num2,0]\n",
    "        y_distance = coordinates[num1,1] - coordinates[num2,1]\n",
    "        z_distance = coordinates[num1,2] - coordinates[num2,2]\n",
    "        bond_length_12 = numpy.sqrt(x_distance**2+y_distance**2+z_distance**2)\n",
    "        print(F'{symbols[num1]} to {symbols[num2]} : {bond_length_12:.3f}')  \n"
   ]
  },
  {
   "cell_type": "markdown",
   "id": "2ba8767b",
   "metadata": {},
   "source": [
    "Your initial project calculated the distance between every set of atoms. However, some of these atoms aren’t really bonded to each other. H1 and H2 are not bonded for example, and all of the distances between an atom and itself are zero. Use a distance cutoff of 1.5 angstroms to define a bond (that is, if the bond length is greater than 1.5 angstroms, consider the atoms not bonded). Modify your code to only print the atoms that are actually bonded to each other."
   ]
  },
  {
   "cell_type": "code",
   "execution_count": 84,
   "id": "fd1990d2",
   "metadata": {},
   "outputs": [],
   "source": [
    "if bond_length_12 > 0 and bond_length_12 <= 1.5:\n",
    "        print(F'{symbols[num1]} to {symbols[num2]} : {bond_length_12:.3f}')  "
   ]
  },
  {
   "cell_type": "markdown",
   "id": "f4642297",
   "metadata": {},
   "source": [
    "Some of these are actually the same bond length; for example, O to H1 and H1 to O refer to the same bond length. Remove the duplicates from your list"
   ]
  },
  {
   "cell_type": "code",
   "execution_count": 87,
   "id": "36b4d406",
   "metadata": {},
   "outputs": [
    {
     "name": "stdout",
     "output_type": "stream",
     "text": [
      "O to H1 : 0.969\n",
      "O to H2 : 0.969\n"
     ]
    },
    {
     "name": "stderr",
     "output_type": "stream",
     "text": [
      "/tmp/ipykernel_176/2548496373.py:8: DeprecationWarning: `np.float` is a deprecated alias for the builtin `float`. To silence this warning, use `float` by itself. Doing this will not modify any behavior and is safe. If you specifically wanted the numpy scalar type, use `np.float64` here.\n",
      "Deprecated in NumPy 1.20; for more details and guidance: https://numpy.org/devdocs/release/1.20.0-notes.html#deprecations\n",
      "  coordinates = coordinates.astype(numpy.float)\n"
     ]
    }
   ],
   "source": [
    "import numpy\n",
    "import os\n",
    "\n",
    "file_location = os.path.join('cms-workshop','data', 'water.xyz')\n",
    "xyz_file = numpy.genfromtxt(fname=file_location, skip_header=2, dtype='unicode')\n",
    "symbols = xyz_file[:,0]\n",
    "coordinates = (xyz_file[:,1:])\n",
    "coordinates = coordinates.astype(numpy.float)\n",
    "num_atoms = len(symbols)\n",
    "for num1 in range(0,num_atoms):\n",
    "    for num2 in range(0,num_atoms):\n",
    "        if num1<num2:\n",
    "            x_distance = coordinates[num1,0] - coordinates[num2,0]\n",
    "            y_distance = coordinates[num1,1] - coordinates[num2,1]\n",
    "            z_distance = coordinates[num1,2] - coordinates[num2,2]\n",
    "            bond_length_12 = numpy.sqrt(x_distance**2+y_distance**2+z_distance**2)\n",
    "            if bond_length_12 > 0 and bond_length_12 <= 1.5:\n",
    "                print(F'{symbols[num1]} to {symbols[num2]} : {bond_length_12:.3f}')"
   ]
  },
  {
   "cell_type": "markdown",
   "id": "6c17faad",
   "metadata": {},
   "source": [
    "Write a your output to a text file called bond_lengths.txt instead of just printing it to the screen."
   ]
  },
  {
   "cell_type": "code",
   "execution_count": 88,
   "id": "bf85094e",
   "metadata": {},
   "outputs": [],
   "source": [
    "BLfile = open('bond_lengths.txt','w+')"
   ]
  },
  {
   "cell_type": "code",
   "execution_count": 90,
   "id": "51928ba5",
   "metadata": {},
   "outputs": [],
   "source": [
    "# Then inside your loop change your print statement to a BLfile.write() statement\n",
    "BLfile.write(F'{symbols[num1]} to {symbols[num2]} : {bond_length_12:.3f}')\n",
    "BLfile.close()  "
   ]
  },
  {
   "cell_type": "markdown",
   "id": "d9c2e50a",
   "metadata": {},
   "source": [
    "# Plotting and Data Visualization"
   ]
  },
  {
   "cell_type": "code",
   "execution_count": 92,
   "id": "5fd088f2",
   "metadata": {},
   "outputs": [
    {
     "name": "stderr",
     "output_type": "stream",
     "text": [
      "/tmp/ipykernel_176/4138810290.py:8: DeprecationWarning: `np.float` is a deprecated alias for the builtin `float`. To silence this warning, use `float` by itself. Doing this will not modify any behavior and is safe. If you specifically wanted the numpy scalar type, use `np.float64` here.\n",
      "Deprecated in NumPy 1.20; for more details and guidance: https://numpy.org/devdocs/release/1.20.0-notes.html#deprecations\n",
      "  data = data.astype(numpy.float)\n"
     ]
    }
   ],
   "source": [
    "import os\n",
    "import numpy\n",
    "\n",
    "distance_file = os.path.join('cms-workshop','data', 'distance_data_headers.csv')\n",
    "distances = numpy.genfromtxt(fname=distance_file, delimiter=',', dtype='unicode')\n",
    "headers = distances[0]\n",
    "data = distances[1:]\n",
    "data = data.astype(numpy.float)"
   ]
  },
  {
   "cell_type": "code",
   "execution_count": 93,
   "id": "33077988",
   "metadata": {},
   "outputs": [],
   "source": [
    "import matplotlib.pyplot"
   ]
  },
  {
   "cell_type": "code",
   "execution_count": 94,
   "id": "5e643dc7",
   "metadata": {},
   "outputs": [
    {
     "data": {
      "text/plain": [
       "[<matplotlib.lines.Line2D at 0x7ff7809f82e0>]"
      ]
     },
     "execution_count": 94,
     "metadata": {},
     "output_type": "execute_result"
    },
    {
     "data": {
      "image/png": "[encoded data removed]",
      "text/plain": [
       "<Figure size 432x288 with 1 Axes>"
      ]
     },
     "metadata": {
      "needs_background": "light"
     },
     "output_type": "display_data"
    }
   ],
   "source": [
    "matplotlib.pyplot.figure()     #This initializes a new figure\n",
    "matplotlib.pyplot.plot(data[:,1])"
   ]
  },
  {
   "cell_type": "code",
   "execution_count": 95,
   "id": "9fde216b",
   "metadata": {},
   "outputs": [
    {
     "data": {
      "text/plain": [
       "[<matplotlib.lines.Line2D at 0x7ff81cbdc0d0>]"
      ]
     },
     "execution_count": 95,
     "metadata": {},
     "output_type": "execute_result"
    },
    {
     "data": {
      "image/png": "[encoded data removed]",
      "text/plain": [
       "<Figure size 432x288 with 1 Axes>"
      ]
     },
     "metadata": {
      "needs_background": "light"
     },
     "output_type": "display_data"
    }
   ],
   "source": [
    "import matplotlib.pyplot as plt\n",
    "\n",
    "plt.figure()\n",
    "plt.plot(data[:,1])\n"
   ]
  },
  {
   "cell_type": "code",
   "execution_count": 96,
   "id": "36f657a5",
   "metadata": {},
   "outputs": [
    {
     "data": {
      "image/png": "[encoded data removed]",
      "text/plain": [
       "<Figure size 432x288 with 1 Axes>"
      ]
     },
     "metadata": {
      "needs_background": "light"
     },
     "output_type": "display_data"
    }
   ],
   "source": [
    "sample = headers[1]\n",
    "\n",
    "plt.figure()\n",
    "plt.xlabel('Simulation Frame')\n",
    "plt.ylabel('Distance (angstrom)')\n",
    "fig_1 = plt.plot(data[:,1], label=sample)\n",
    "plt.legend()\n",
    "\n",
    "plt.savefig(F'{sample}.png')"
   ]
  },
  {
   "cell_type": "markdown",
   "id": "322057af",
   "metadata": {},
   "source": [
    "## Increasing image resolution"
   ]
  },
  {
   "cell_type": "code",
   "execution_count": 97,
   "id": "79f54104",
   "metadata": {},
   "outputs": [
    {
     "data": {
      "image/png": "[encoded data removed]",
      "text/plain": [
       "<Figure size 432x288 with 1 Axes>"
      ]
     },
     "metadata": {
      "needs_background": "light"
     },
     "output_type": "display_data"
    }
   ],
   "source": [
    "sample = headers[1]\n",
    "\n",
    "plt.figure()\n",
    "plt.xlabel('Simulation Frame')\n",
    "plt.ylabel('Distance (angstrom)')\n",
    "fig_1 = plt.plot(data[:,1], label=sample)\n",
    "plt.legend()\n",
    "\n",
    "plt.savefig(F'{sample}.png', dpi=300)"
   ]
  },
  {
   "cell_type": "code",
   "execution_count": 98,
   "id": "e4e9452d",
   "metadata": {},
   "outputs": [
    {
     "data": {
      "image/png": "[encoded data removed]",
      "text/plain": [
       "<Figure size 432x288 with 1 Axes>"
      ]
     },
     "metadata": {
      "needs_background": "light"
     },
     "output_type": "display_data"
    }
   ],
   "source": [
    "# Plotting more than one set of data\n",
    "\n",
    "\n",
    "plt.figure()\n",
    "plt.xlabel('Simulation Frame')\n",
    "plt.ylabel('Distance (angstrom)')\n",
    "plt.plot(data[:,1], label=headers[1])\n",
    "plt.plot(data[:,2], label=headers[2])\n",
    "plt.legend()\n",
    "plt.savefig('two_samples.png')"
   ]
  },
  {
   "cell_type": "code",
   "execution_count": 99,
   "id": "0f84e64e",
   "metadata": {},
   "outputs": [
    {
     "data": {
      "image/png": "[encoded data removed]",
      "text/plain": [
       "<Figure size 432x288 with 1 Axes>"
      ]
     },
     "metadata": {
      "needs_background": "light"
     },
     "output_type": "display_data"
    }
   ],
   "source": [
    "# To plot all samples on the same plot\n",
    "\n",
    "for col in range(1, len(headers)):\n",
    "    fig = plt.plot(data[:,col], label=headers[col])\n",
    "    plt.legend()\n",
    "\n",
    "plt.xlabel('Simulation Frame')\n",
    "plt.ylabel('Distance (angstrom)')\n",
    "plt.savefig('all_samples.png')"
   ]
  },
  {
   "cell_type": "markdown",
   "id": "821688dd",
   "metadata": {},
   "source": [
    "Exercise : How would you make a different plot for each sample? Save each image with the filename sample_name.png."
   ]
  },
  {
   "cell_type": "code",
   "execution_count": 103,
   "id": "61419d30",
   "metadata": {},
   "outputs": [
    {
     "data": {
      "image/png": "[encoded data removed]",
      "text/plain": [
       "<Figure size 432x288 with 1 Axes>"
      ]
     },
     "metadata": {
      "needs_background": "light"
     },
     "output_type": "display_data"
    },
    {
     "data": {
      "image/png": "[encoded data removed]",
      "text/plain": [
       "<Figure size 432x288 with 1 Axes>"
      ]
     },
     "metadata": {
      "needs_background": "light"
     },
     "output_type": "display_data"
    },
    {
     "data": {
      "image/png": "[encoded data removed]",
      "text/plain": [
       "<Figure size 432x288 with 1 Axes>"
      ]
     },
     "metadata": {
      "needs_background": "light"
     },
     "output_type": "display_data"
    },
    {
     "data": {
      "image/png": "[encoded data removed]",
      "text/plain": [
       "<Figure size 432x288 with 1 Axes>"
      ]
     },
     "metadata": {
      "needs_background": "light"
     },
     "output_type": "display_data"
    }
   ],
   "source": [
    "for col in range(1, len(headers)):\n",
    "   plt.figure()\n",
    "   sample = headers[col]\n",
    "\n",
    "   plt.plot(data[:,col], label=sample)\n",
    "   plt.legend()\n",
    "   plt.xlabel('Simulation Frame')\n",
    "   plt.ylabel('Distance (angstrom)')\n",
    "\n",
    "   plt.savefig(F'{sample}.png')"
   ]
  },
  {
   "cell_type": "markdown",
   "id": "63dff307",
   "metadata": {},
   "source": [
    "## Normalizing your axes across plots\n",
    "plt.ylim(low_limit, high_limit)"
   ]
  },
  {
   "cell_type": "markdown",
   "id": "0d3769bb",
   "metadata": {},
   "source": [
    "Exercise : Take a minute to think - for our example what would be a good lower limit and higher limit for our plots? Do you have any idea of how we could calculate these values?"
   ]
  },
  {
   "cell_type": "code",
   "execution_count": 105,
   "id": "bfdb4c50",
   "metadata": {},
   "outputs": [],
   "source": [
    "data_min = numpy.min(data[:, 1:])\n",
    "data_max = numpy.max(data[:, 1:])"
   ]
  },
  {
   "cell_type": "code",
   "execution_count": 106,
   "id": "a0709f04",
   "metadata": {},
   "outputs": [
    {
     "data": {
      "text/plain": [
       "[<matplotlib.lines.Line2D at 0x7ff777dcb190>]"
      ]
     },
     "execution_count": 106,
     "metadata": {},
     "output_type": "execute_result"
    },
    {
     "data": {
      "image/png": "[encoded data removed]",
      "text/plain": [
       "<Figure size 432x288 with 1 Axes>"
      ]
     },
     "metadata": {
      "needs_background": "light"
     },
     "output_type": "display_data"
    }
   ],
   "source": [
    "# Plotting with x and y\n",
    "plt.figure()\n",
    "plt.plot(data[:,0], data[:,1])"
   ]
  },
  {
   "cell_type": "code",
   "execution_count": 107,
   "id": "cb839c19",
   "metadata": {},
   "outputs": [
    {
     "name": "stdout",
     "output_type": "stream",
     "text": [
      "[[ 1.      8.9542  5.8024 11.5478  9.9557]\n",
      " [ 3.      9.0066  6.0637 13.0924 11.3043]\n",
      " [ 5.      9.1294  5.9365 13.5321 10.6279]\n",
      " [ 7.      8.8657  5.9186 12.9312 10.2176]\n",
      " [ 9.      9.4184  6.1993 13.2614 10.366 ]]\n"
     ]
    }
   ],
   "source": [
    "print(data[0:10:2, :])"
   ]
  },
  {
   "cell_type": "markdown",
   "id": "c52ca1cf",
   "metadata": {},
   "source": [
    "Exercise : How would you get every 100th point in the first column?\n"
   ]
  },
  {
   "cell_type": "code",
   "execution_count": 108,
   "id": "e30829c9",
   "metadata": {},
   "outputs": [],
   "source": [
    "incr_100 = data[0::100, 0]"
   ]
  },
  {
   "cell_type": "code",
   "execution_count": 109,
   "id": "233a3b08",
   "metadata": {},
   "outputs": [
    {
     "data": {
      "text/plain": [
       "[<matplotlib.lines.Line2D at 0x7ff777cfe3a0>]"
      ]
     },
     "execution_count": 109,
     "metadata": {},
     "output_type": "execute_result"
    },
    {
     "data": {
      "image/png": "[encoded data removed]",
      "text/plain": [
       "<Figure size 432x288 with 1 Axes>"
      ]
     },
     "metadata": {
      "needs_background": "light"
     },
     "output_type": "display_data"
    }
   ],
   "source": [
    "# Plot with 100 points\n",
    "plt.figure()\n",
    "plt.plot(data[0::100,0], data[0::100,1])"
   ]
  },
  {
   "cell_type": "code",
   "execution_count": 110,
   "id": "e8432b32",
   "metadata": {},
   "outputs": [
    {
     "data": {
      "text/plain": [
       "[<matplotlib.lines.Line2D at 0x7ff777c53dc0>]"
      ]
     },
     "execution_count": 110,
     "metadata": {},
     "output_type": "execute_result"
    },
    {
     "data": {
      "image/png": "[encoded data removed]",
      "text/plain": [
       "<Figure size 432x288 with 1 Axes>"
      ]
     },
     "metadata": {
      "needs_background": "light"
     },
     "output_type": "display_data"
    },
    {
     "data": {
      "image/png": "[encoded data removed]",
      "text/plain": [
       "<Figure size 432x288 with 1 Axes>"
      ]
     },
     "metadata": {
      "needs_background": "light"
     },
     "output_type": "display_data"
    },
    {
     "data": {
      "image/png": "[encoded data removed]",
      "text/plain": [
       "<Figure size 432x288 with 1 Axes>"
      ]
     },
     "metadata": {
      "needs_background": "light"
     },
     "output_type": "display_data"
    }
   ],
   "source": [
    "# Customizing plot appearance\n",
    "plt.figure()\n",
    "plt.plot(data[0::100,0], data[0::100,1], '--')\n",
    "plt.figure()\n",
    "plt.plot(data[0::100,0], data[0::100,1], 'o')\n",
    "plt.figure()\n",
    "plt.plot(data[0::100,0], data[0::100,1], '--o')"
   ]
  },
  {
   "cell_type": "markdown",
   "id": "aed0f8c6",
   "metadata": {},
   "source": [
    "Exercise: Modify your plot so that you have a black dashed line and circular markers."
   ]
  },
  {
   "cell_type": "code",
   "execution_count": 111,
   "id": "03c46867",
   "metadata": {},
   "outputs": [
    {
     "data": {
      "text/plain": [
       "[<matplotlib.lines.Line2D at 0x7ff777b8b0d0>]"
      ]
     },
     "execution_count": 111,
     "metadata": {},
     "output_type": "execute_result"
    },
    {
     "data": {
      "image/png": "[encoded data removed]",
      "text/plain": [
       "<Figure size 432x288 with 1 Axes>"
      ]
     },
     "metadata": {
      "needs_background": "light"
     },
     "output_type": "display_data"
    }
   ],
   "source": [
    "plt.figure()\n",
    "plt.plot(data[0::100,0], data[0::100,1], ':ok')"
   ]
  },
  {
   "cell_type": "code",
   "execution_count": 112,
   "id": "ac138545",
   "metadata": {},
   "outputs": [
    {
     "data": {
      "image/png": "[encoded data removed]",
      "text/plain": [
       "<Figure size 432x288 with 4 Axes>"
      ]
     },
     "execution_count": 112,
     "metadata": {},
     "output_type": "execute_result"
    },
    {
     "data": {
      "image/png": "[encoded data removed]",
      "text/plain": [
       "<Figure size 432x288 with 4 Axes>"
      ]
     },
     "metadata": {
      "needs_background": "light"
     },
     "output_type": "display_data"
    },
    {
     "data": {
      "image/png": "[encoded data removed]",
      "text/plain": [
       "<Figure size 432x288 with 4 Axes>"
      ]
     },
     "metadata": {
      "needs_background": "light"
     },
     "output_type": "display_data"
    }
   ],
   "source": [
    "# Multiple Plots with Subplot\n",
    "fig, ax = plt.subplots(len(headers)-1, 1)\n",
    "ax.shape\n",
    "fig2, ax2 = plt.subplots(2,2)\n",
    "ax2.shape\n",
    "ax[0].plot(data[0::100,0], data[0::100,col])\n",
    "fig\n",
    "ax2[0,0].plot(data[0::100,0], data[0::100,col])\n",
    "fig2"
   ]
  },
  {
   "cell_type": "markdown",
   "id": "2e3ba941",
   "metadata": {},
   "source": [
    "Exercise: How could you use a for loop to add all of your data to fig?"
   ]
  },
  {
   "cell_type": "code",
   "execution_count": 113,
   "id": "6dec840f",
   "metadata": {},
   "outputs": [
    {
     "data": {
      "image/png": "[encoded data removed]",
      "text/plain": [
       "<Figure size 432x288 with 4 Axes>"
      ]
     },
     "metadata": {
      "needs_background": "light"
     },
     "output_type": "display_data"
    }
   ],
   "source": [
    "fig, ax = plt.subplots(len(headers)-1, 1)\n",
    "\n",
    "for col in range(1, len(headers)):\n",
    "    sample = headers[col]\n",
    "   \n",
    "    ax[col-1].plot(data[0::100,0], data[0::100,col], label=sample)\n",
    "    ax[col-1].set_xlabel('Simulation Frame')\n",
    "    ax[col-1].set_ylabel('Distance (angstrom)')\n",
    "    ax[col-1].legend()"
   ]
  },
  {
   "cell_type": "markdown",
   "id": "b5d84bb1",
   "metadata": {},
   "source": [
    "# Writing Functions"
   ]
  },
  {
   "cell_type": "code",
   "execution_count": 114,
   "id": "88c08150",
   "metadata": {},
   "outputs": [],
   "source": [
    "def function_name(parameters):\n",
    "    # function body code \n",
    "    return value_to_return\n"
   ]
  },
  {
   "cell_type": "markdown",
   "id": "f3a96512",
   "metadata": {},
   "source": [
    "## Writing functions into our geometry analysis project"
   ]
  },
  {
   "cell_type": "code",
   "execution_count": 116,
   "id": "9ee1a2ca",
   "metadata": {},
   "outputs": [
    {
     "name": "stdout",
     "output_type": "stream",
     "text": [
      "O to H1 : 0.969\n",
      "O to H2 : 0.969\n"
     ]
    },
    {
     "name": "stderr",
     "output_type": "stream",
     "text": [
      "/tmp/ipykernel_176/1920458633.py:8: DeprecationWarning: `np.float` is a deprecated alias for the builtin `float`. To silence this warning, use `float` by itself. Doing this will not modify any behavior and is safe. If you specifically wanted the numpy scalar type, use `np.float64` here.\n",
      "Deprecated in NumPy 1.20; for more details and guidance: https://numpy.org/devdocs/release/1.20.0-notes.html#deprecations\n",
      "  coordinates = coordinates.astype(numpy.float)\n"
     ]
    }
   ],
   "source": [
    "import numpy\n",
    "import os\n",
    "\n",
    "file_location = os.path.join('cms-workshop','data', 'water.xyz')\n",
    "xyz_file = numpy.genfromtxt(fname=file_location, skip_header=2, dtype='unicode')\n",
    "symbols = xyz_file[:, 0]\n",
    "coordinates = xyz_file[:, 1:]\n",
    "coordinates = coordinates.astype(numpy.float)\n",
    "num_atoms = len(symbols)\n",
    "for num1 in range(0, num_atoms):\n",
    "    for num2 in range(0, num_atoms):\n",
    "        if num1 < num2:\n",
    "            x_distance = coordinates[num1, 0] - coordinates[num2, 0]\n",
    "            y_distance = coordinates[num1, 1] - coordinates[num2, 1]\n",
    "            z_distance = coordinates[num1, 2] - coordinates[num2, 2]\n",
    "            bond_length_12 = numpy.sqrt(x_distance ** 2 + y_distance ** 2 + z_distance ** 2)\n",
    "            if bond_length_12 > 0 and bond_length_12 <= 1.5:\n",
    "                print(F'{symbols[num1]} to {symbols[num2]} : {bond_length_12:.3f}')\n"
   ]
  },
  {
   "cell_type": "code",
   "execution_count": 117,
   "id": "9474564b",
   "metadata": {},
   "outputs": [],
   "source": [
    "def calculate_distance(atom1_coord, atom2_coord):\n",
    "    x_distance = atom1_coord[0] - atom2_coord[0]\n",
    "    y_distance = atom1_coord[1] - atom2_coord[1]\n",
    "    z_distance = atom1_coord[2] - atom2_coord[2]\n",
    "    bond_length_12 = numpy.sqrt(x_distance ** 2 + y_distance ** 2 + z_distance ** 2)\n",
    "    return bond_length_12"
   ]
  },
  {
   "cell_type": "code",
   "execution_count": 118,
   "id": "a19f7cf6",
   "metadata": {},
   "outputs": [
    {
     "name": "stdout",
     "output_type": "stream",
     "text": [
      "O to H1 : 0.969\n",
      "O to H2 : 0.969\n"
     ]
    }
   ],
   "source": [
    "for num1 in range(0, num_atoms):\n",
    "    for num2 in range(0, num_atoms):\n",
    "        if num1 < num2:\n",
    "            bond_length_12 = calculate_distance(coordinates[num1], coordinates[num2])\n",
    "            if bond_length_12 > 0 and bond_length_12 <= 1.5:\n",
    "                print(F'{symbols[num1]} to {symbols[num2]} : {bond_length_12:.3f}')"
   ]
  },
  {
   "cell_type": "raw",
   "id": "d78cc9c8",
   "metadata": {},
   "source": [
    "Exercise : Modify the bond_check function to take a minimum length and a maximum length as user input.\n"
   ]
  },
  {
   "cell_type": "code",
   "execution_count": 119,
   "id": "1547fcc1",
   "metadata": {},
   "outputs": [],
   "source": [
    "def bond_check(atom_distance, minimum_length, maximum_length):\n",
    "   if atom_distance > minimum_length and atom_distance <= maximum_length:\n",
    "       return True\n",
    "   else:\n",
    "       return False"
   ]
  },
  {
   "cell_type": "markdown",
   "id": "4549fce7",
   "metadata": {},
   "source": [
    "## Function Documentation"
   ]
  },
  {
   "cell_type": "code",
   "execution_count": 120,
   "id": "254fe376",
   "metadata": {},
   "outputs": [
    {
     "name": "stdout",
     "output_type": "stream",
     "text": [
      "Help on function genfromtxt in module numpy:\n",
      "\n",
      "genfromtxt(fname, dtype=<class 'float'>, comments='#', delimiter=None, skip_header=0, skip_footer=0, converters=None, missing_values=None, filling_values=None, usecols=None, names=None, excludelist=None, deletechars=\" !#$%&'()*+,-./:;<=>?@[\\\\]^{|}~\", replace_space='_', autostrip=False, case_sensitive=True, defaultfmt='f%i', unpack=None, usemask=False, loose=True, invalid_raise=True, max_rows=None, encoding='bytes', *, like=None)\n",
      "    Load data from a text file, with missing values handled as specified.\n",
      "    \n",
      "    Each line past the first `skip_header` lines is split at the `delimiter`\n",
      "    character, and characters following the `comments` character are discarded.\n",
      "    \n",
      "    Parameters\n",
      "    ----------\n",
      "    fname : file, str, pathlib.Path, list of str, generator\n",
      "        File, filename, list, or generator to read.  If the filename\n",
      "        extension is ``.gz`` or ``.bz2``, the file is first decompressed. Note\n",
      "        that generators must return bytes or strings. The strings\n",
      "        in a list or produced by a generator are treated as lines.\n",
      "    dtype : dtype, optional\n",
      "        Data type of the resulting array.\n",
      "        If None, the dtypes will be determined by the contents of each\n",
      "        column, individually.\n",
      "    comments : str, optional\n",
      "        The character used to indicate the start of a comment.\n",
      "        All the characters occurring on a line after a comment are discarded.\n",
      "    delimiter : str, int, or sequence, optional\n",
      "        The string used to separate values.  By default, any consecutive\n",
      "        whitespaces act as delimiter.  An integer or sequence of integers\n",
      "        can also be provided as width(s) of each field.\n",
      "    skiprows : int, optional\n",
      "        `skiprows` was removed in numpy 1.10. Please use `skip_header` instead.\n",
      "    skip_header : int, optional\n",
      "        The number of lines to skip at the beginning of the file.\n",
      "    skip_footer : int, optional\n",
      "        The number of lines to skip at the end of the file.\n",
      "    converters : variable, optional\n",
      "        The set of functions that convert the data of a column to a value.\n",
      "        The converters can also be used to provide a default value\n",
      "        for missing data: ``converters = {3: lambda s: float(s or 0)}``.\n",
      "    missing : variable, optional\n",
      "        `missing` was removed in numpy 1.10. Please use `missing_values`\n",
      "        instead.\n",
      "    missing_values : variable, optional\n",
      "        The set of strings corresponding to missing data.\n",
      "    filling_values : variable, optional\n",
      "        The set of values to be used as default when the data are missing.\n",
      "    usecols : sequence, optional\n",
      "        Which columns to read, with 0 being the first.  For example,\n",
      "        ``usecols = (1, 4, 5)`` will extract the 2nd, 5th and 6th columns.\n",
      "    names : {None, True, str, sequence}, optional\n",
      "        If `names` is True, the field names are read from the first line after\n",
      "        the first `skip_header` lines. This line can optionally be preceded\n",
      "        by a comment delimiter. If `names` is a sequence or a single-string of\n",
      "        comma-separated names, the names will be used to define the field names\n",
      "        in a structured dtype. If `names` is None, the names of the dtype\n",
      "        fields will be used, if any.\n",
      "    excludelist : sequence, optional\n",
      "        A list of names to exclude. This list is appended to the default list\n",
      "        ['return','file','print']. Excluded names are appended with an\n",
      "        underscore: for example, `file` would become `file_`.\n",
      "    deletechars : str, optional\n",
      "        A string combining invalid characters that must be deleted from the\n",
      "        names.\n",
      "    defaultfmt : str, optional\n",
      "        A format used to define default field names, such as \"f%i\" or \"f_%02i\".\n",
      "    autostrip : bool, optional\n",
      "        Whether to automatically strip white spaces from the variables.\n",
      "    replace_space : char, optional\n",
      "        Character(s) used in replacement of white spaces in the variable\n",
      "        names. By default, use a '_'.\n",
      "    case_sensitive : {True, False, 'upper', 'lower'}, optional\n",
      "        If True, field names are case sensitive.\n",
      "        If False or 'upper', field names are converted to upper case.\n",
      "        If 'lower', field names are converted to lower case.\n",
      "    unpack : bool, optional\n",
      "        If True, the returned array is transposed, so that arguments may be\n",
      "        unpacked using ``x, y, z = genfromtxt(...)``.  When used with a\n",
      "        structured data-type, arrays are returned for each field.\n",
      "        Default is False.\n",
      "    usemask : bool, optional\n",
      "        If True, return a masked array.\n",
      "        If False, return a regular array.\n",
      "    loose : bool, optional\n",
      "        If True, do not raise errors for invalid values.\n",
      "    invalid_raise : bool, optional\n",
      "        If True, an exception is raised if an inconsistency is detected in the\n",
      "        number of columns.\n",
      "        If False, a warning is emitted and the offending lines are skipped.\n",
      "    max_rows : int,  optional\n",
      "        The maximum number of rows to read. Must not be used with skip_footer\n",
      "        at the same time.  If given, the value must be at least 1. Default is\n",
      "        to read the entire file.\n",
      "    \n",
      "        .. versionadded:: 1.10.0\n",
      "    encoding : str, optional\n",
      "        Encoding used to decode the inputfile. Does not apply when `fname` is\n",
      "        a file object.  The special value 'bytes' enables backward compatibility\n",
      "        workarounds that ensure that you receive byte arrays when possible\n",
      "        and passes latin1 encoded strings to converters. Override this value to\n",
      "        receive unicode arrays and pass strings as input to converters.  If set\n",
      "        to None the system default is used. The default value is 'bytes'.\n",
      "    \n",
      "        .. versionadded:: 1.14.0\n",
      "    like : array_like\n",
      "        Reference object to allow the creation of arrays which are not\n",
      "        NumPy arrays. If an array-like passed in as ``like`` supports\n",
      "        the ``__array_function__`` protocol, the result will be defined\n",
      "        by it. In this case, it ensures the creation of an array object\n",
      "        compatible with that passed in via this argument.\n",
      "    \n",
      "        .. versionadded:: 1.20.0\n",
      "    \n",
      "    Returns\n",
      "    -------\n",
      "    out : ndarray\n",
      "        Data read from the text file. If `usemask` is True, this is a\n",
      "        masked array.\n",
      "    \n",
      "    See Also\n",
      "    --------\n",
      "    numpy.loadtxt : equivalent function when no data is missing.\n",
      "    \n",
      "    Notes\n",
      "    -----\n",
      "    * When spaces are used as delimiters, or when no delimiter has been given\n",
      "      as input, there should not be any missing data between two fields.\n",
      "    * When the variables are named (either by a flexible dtype or with `names`),\n",
      "      there must not be any header in the file (else a ValueError\n",
      "      exception is raised).\n",
      "    * Individual values are not stripped of spaces by default.\n",
      "      When using a custom converter, make sure the function does remove spaces.\n",
      "    \n",
      "    References\n",
      "    ----------\n",
      "    .. [1] NumPy User Guide, section `I/O with NumPy\n",
      "           <https://docs.scipy.org/doc/numpy/user/basics.io.genfromtxt.html>`_.\n",
      "    \n",
      "    Examples\n",
      "    --------\n",
      "    >>> from io import StringIO\n",
      "    >>> import numpy as np\n",
      "    \n",
      "    Comma delimited file with mixed dtype\n",
      "    \n",
      "    >>> s = StringIO(u\"1,1.3,abcde\")\n",
      "    >>> data = np.genfromtxt(s, dtype=[('myint','i8'),('myfloat','f8'),\n",
      "    ... ('mystring','S5')], delimiter=\",\")\n",
      "    >>> data\n",
      "    array((1, 1.3, b'abcde'),\n",
      "          dtype=[('myint', '<i8'), ('myfloat', '<f8'), ('mystring', 'S5')])\n",
      "    \n",
      "    Using dtype = None\n",
      "    \n",
      "    >>> _ = s.seek(0) # needed for StringIO example only\n",
      "    >>> data = np.genfromtxt(s, dtype=None,\n",
      "    ... names = ['myint','myfloat','mystring'], delimiter=\",\")\n",
      "    >>> data\n",
      "    array((1, 1.3, b'abcde'),\n",
      "          dtype=[('myint', '<i8'), ('myfloat', '<f8'), ('mystring', 'S5')])\n",
      "    \n",
      "    Specifying dtype and names\n",
      "    \n",
      "    >>> _ = s.seek(0)\n",
      "    >>> data = np.genfromtxt(s, dtype=\"i8,f8,S5\",\n",
      "    ... names=['myint','myfloat','mystring'], delimiter=\",\")\n",
      "    >>> data\n",
      "    array((1, 1.3, b'abcde'),\n",
      "          dtype=[('myint', '<i8'), ('myfloat', '<f8'), ('mystring', 'S5')])\n",
      "    \n",
      "    An example with fixed-width columns\n",
      "    \n",
      "    >>> s = StringIO(u\"11.3abcde\")\n",
      "    >>> data = np.genfromtxt(s, dtype=None, names=['intvar','fltvar','strvar'],\n",
      "    ...     delimiter=[1,3,5])\n",
      "    >>> data\n",
      "    array((1, 1.3, b'abcde'),\n",
      "          dtype=[('intvar', '<i8'), ('fltvar', '<f8'), ('strvar', 'S5')])\n",
      "    \n",
      "    An example to show comments\n",
      "    \n",
      "    >>> f = StringIO('''\n",
      "    ... text,# of chars\n",
      "    ... hello world,11\n",
      "    ... numpy,5''')\n",
      "    >>> np.genfromtxt(f, dtype='S12,S12', delimiter=',')\n",
      "    array([(b'text', b''), (b'hello world', b'11'), (b'numpy', b'5')],\n",
      "      dtype=[('f0', 'S12'), ('f1', 'S12')])\n",
      "\n"
     ]
    }
   ],
   "source": [
    "help(numpy.genfromtxt)"
   ]
  },
  {
   "cell_type": "code",
   "execution_count": 121,
   "id": "72d487cd",
   "metadata": {},
   "outputs": [],
   "source": [
    "def calculate_distance(atom1_coord, atom2_coord):\n",
    "    \"\"\"Calculate the distance between two three-dimensional points.\"\"\"\n",
    "\n",
    "    x_distance = atom1_coord[0] - atom2_coord[0]\n",
    "    y_distance = atom1_coord[1] - atom2_coord[1]\n",
    "    z_distance = atom1_coord[2] - atom2_coord[2]\n",
    "    bond_length_12 = numpy.sqrt(x_distance**2+y_distance**2+z_distance**2)\n",
    "    return bond_length_12"
   ]
  },
  {
   "cell_type": "code",
   "execution_count": 122,
   "id": "914b5866",
   "metadata": {},
   "outputs": [
    {
     "name": "stdout",
     "output_type": "stream",
     "text": [
      "Help on function calculate_distance in module __main__:\n",
      "\n",
      "calculate_distance(atom1_coord, atom2_coord)\n",
      "    Calculate the distance between two three-dimensional points.\n",
      "\n"
     ]
    }
   ],
   "source": [
    "help(calculate_distance)"
   ]
  },
  {
   "cell_type": "code",
   "execution_count": 123,
   "id": "34dd07e3",
   "metadata": {},
   "outputs": [],
   "source": [
    "def bond_check(atom_distance, minimum_length=0, maximum_length=1.5):\n",
    "    \"\"\"\n",
    "    Check if a distance is a bond based on a minimum and maximum bond length.\n",
    "    \"\"\"\n",
    "\n",
    "    if atom_distance > minimum_length and atom_distance <= maximum_length:\n",
    "        return True\n",
    "    else:\n",
    "        return False"
   ]
  },
  {
   "cell_type": "code",
   "execution_count": 124,
   "id": "30c8fef9",
   "metadata": {},
   "outputs": [
    {
     "name": "stdout",
     "output_type": "stream",
     "text": [
      "True\n",
      "False\n"
     ]
    }
   ],
   "source": [
    "print(bond_check(1.5))\n",
    "print(bond_check(1.6))"
   ]
  },
  {
   "cell_type": "code",
   "execution_count": 125,
   "id": "67c2f6fe",
   "metadata": {},
   "outputs": [
    {
     "name": "stdout",
     "output_type": "stream",
     "text": [
      "True\n"
     ]
    }
   ],
   "source": [
    "print(bond_check(1.6, maximum_length=1.6))"
   ]
  },
  {
   "cell_type": "code",
   "execution_count": 126,
   "id": "b68c0323",
   "metadata": {},
   "outputs": [
    {
     "name": "stdout",
     "output_type": "stream",
     "text": [
      "O to H1 : 0.969\n",
      "O to H2 : 0.969\n"
     ]
    }
   ],
   "source": [
    "num_atoms = len(symbols)\n",
    "for num1 in range(0, num_atoms):\n",
    "    for num2 in range(0, num_atoms):\n",
    "        if num1 < num2:\n",
    "            bond_length_12 = calculate_distance(coordinates[num1], coordinates[num2])\n",
    "            if bond_check(bond_length_12) is True:\n",
    "                print(F'{symbols[num1]} to {symbols[num2]} : {bond_length_12:.3f}')"
   ]
  },
  {
   "cell_type": "markdown",
   "id": "83e6fa51",
   "metadata": {},
   "source": [
    "Exercise: We might also want to write a function that opens and processes our xyz file for us. Write a function called open_xyz which takes an xyz file as a parameter and returns the symbols and coordinates.\n",
    "Hint: You can return two values from a function by typing return variable1, variable2"
   ]
  },
  {
   "cell_type": "code",
   "execution_count": 127,
   "id": "0a6316bf",
   "metadata": {},
   "outputs": [],
   "source": [
    "def open_xyz(filename):\n",
    "     xyz_file = numpy.genfromtxt(fname=filename, skip_header=2, dtype='unicode')\n",
    "     symbols = xyz_file[:, 0]\n",
    "     coord = (xyz_file[:, 1:])\n",
    "     coord = coord.astype(numpy.float)\n",
    "     return symbols, coord"
   ]
  },
  {
   "cell_type": "code",
   "execution_count": 129,
   "id": "ae770294",
   "metadata": {},
   "outputs": [
    {
     "name": "stdout",
     "output_type": "stream",
     "text": [
      "O to H1 : 0.969\n",
      "O to H2 : 0.969\n"
     ]
    },
    {
     "name": "stderr",
     "output_type": "stream",
     "text": [
      "/tmp/ipykernel_176/1215189887.py:5: DeprecationWarning: `np.float` is a deprecated alias for the builtin `float`. To silence this warning, use `float` by itself. Doing this will not modify any behavior and is safe. If you specifically wanted the numpy scalar type, use `np.float64` here.\n",
      "Deprecated in NumPy 1.20; for more details and guidance: https://numpy.org/devdocs/release/1.20.0-notes.html#deprecations\n",
      "  coord = coord.astype(numpy.float)\n"
     ]
    }
   ],
   "source": [
    "import numpy\n",
    "import os\n",
    "\n",
    "file_location = os.path.join('cms-workshop','data', 'water.xyz')\n",
    "symbols, coord = open_xyz(file_location)\n",
    "num_atoms = len(symbols)\n",
    "for num1 in range(0, num_atoms):\n",
    "    for num2 in range(0, num_atoms):\n",
    "        if num1 < num2:\n",
    "            bond_length_12 = calculate_distance(coord[num1], coord[num2])\n",
    "            if bond_check(bond_length_12) is True:\n",
    "                print(F'{symbols[num1]} to {symbols[num2]} : {bond_length_12:.3f}')"
   ]
  },
  {
   "cell_type": "code",
   "execution_count": null,
   "id": "33770242",
   "metadata": {},
   "outputs": [],
   "source": []
  },
  {
   "cell_type": "code",
   "execution_count": null,
   "id": "13ca7846",
   "metadata": {},
   "outputs": [],
   "source": []
  },
  {
   "cell_type": "code",
   "execution_count": null,
   "id": "cc14fd73",
   "metadata": {},
   "outputs": [],
   "source": []
  }
 ],
 "metadata": {
  "kernelspec": {
   "display_name": "Python 3 (ipykernel)",
   "language": "python",
   "name": "python3"
  },
  "language_info": {
   "codemirror_mode": {
    "name": "ipython",
    "version": 3
   },
   "file_extension": ".py",
   "mimetype": "text/x-python",
   "name": "python",
   "nbconvert_exporter": "python",
   "pygments_lexer": "ipython3",
   "version": "3.9.7"
  }
 },
 "nbformat": 4,
 "nbformat_minor": 5
}
