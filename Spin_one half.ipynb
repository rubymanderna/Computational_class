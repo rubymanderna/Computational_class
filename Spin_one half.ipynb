{
 "cells": [
  {
   "cell_type": "markdown",
   "id": "d849ac90",
   "metadata": {
    "id": "d849ac90"
   },
   "source": [
    "# Basics of python and numpy\n",
    "\n",
    "Outline\n",
    "\n",
    "- Import statements\n",
    "- Printing\n",
    "- Variables and types\n",
    "- Basic arithmetic\n",
    "- NumPy Arrays: Vectors\n",
    "- Numpy Arrays: Matrices\n",
    "- Dot products between vectors\n",
    "- Matrix-vector products\n",
    "- Matrix-matrix products\n",
    "- Hermitian matrices\n",
    "- Eigenvalues and eigenvectors\n",
    "- Commutators\n"
   ]
  },
  {
   "cell_type": "markdown",
   "id": "9b6a9845",
   "metadata": {
    "id": "9b6a9845"
   },
   "source": [
    "## Import statements\n",
    "Python has intrinsic functionality as a programming language, but there are also many special-purpose libraries that are helpful.  Here we will use the library `numpy` for numerical computing."
   ]
  },
  {
   "cell_type": "code",
   "execution_count": 1,
   "id": "21528317",
   "metadata": {
    "id": "21528317"
   },
   "outputs": [],
   "source": [
    "import numpy as np\n",
    "from numpy import linalg as la"
   ]
  },
  {
   "cell_type": "markdown",
   "id": "5829abbe",
   "metadata": {
    "id": "5829abbe"
   },
   "source": [
    "## Printing\n",
    "The way to communicate between the computer and you is through different types of print statements.  These can display data to the screen, or write data to a file.  We can also plot data, which we will see in a future lesson.  For now, we will use the print statement to write the canonical first program: Hello World\n",
    "\n",
    "The syntax for printing the string \"Hello World!\" is\n",
    "\n",
    "`print(\"Hello World!\")`"
   ]
  },
  {
   "cell_type": "code",
   "execution_count": 2,
   "id": "8fddb0e1",
   "metadata": {
    "id": "8fddb0e1"
   },
   "outputs": [
    {
     "name": "stdout",
     "output_type": "stream",
     "text": [
      "Ruby\n"
     ]
    }
   ],
   "source": [
    "print(\"Ruby\")"
   ]
  },
  {
   "cell_type": "markdown",
   "id": "ebfb49f2",
   "metadata": {
    "id": "ebfb49f2"
   },
   "source": [
    "## Variables and types\n",
    "Much of the power of programming languages lies in the ability to perform complicated operators on data.  Data used throughout a program is stored in variables.  We can use *most* any name we want for variables, though there are some best practices:  we should try to use descriptive names when possible, we should use lower case letters, we should separate words in compound names with an underscore.  We **cannot** use certain words that correspond to built-in functions in python, like `print`, `for`, `while`, `if`, `elif`, `else`, `type` to name a few commmon ones.\n",
    "\n",
    "We can also store many types of data as variables.  Data types in python include `int` (integers), `floats` (numbers with decimal places), `str` (strings of characters, e.g. words), `complex` (complex numbers), `bool` (boolean True/False)."
   ]
  },
  {
   "cell_type": "code",
   "execution_count": 3,
   "id": "f478e470",
   "metadata": {
    "id": "f478e470"
   },
   "outputs": [
    {
     "name": "stdout",
     "output_type": "stream",
     "text": [
      "Hello World!\n",
      "<class 'str'>\n",
      "1\n",
      "<class 'int'>\n",
      "2.1223\n",
      "<class 'float'>\n"
     ]
    }
   ],
   "source": [
    "# the following variable is a string\n",
    "my_message = \"Hello World!\"\n",
    "\n",
    "# thie following variable is an int\n",
    "my_integer = 1\n",
    "\n",
    "# the following variable is a float\n",
    "my_float = 2.1223\n",
    "\n",
    "# insert code to print my_message\n",
    "print(my_message)\n",
    "print(type(my_message))\n",
    "# insert code to print my_integer\n",
    "print(my_integer)\n",
    "print(type(my_integer))\n",
    "# insert code to print my_float\n",
    "print(my_float)\n",
    "print(type(my_float))\n",
    "\n",
    "\n",
    "\n",
    "\n",
    "# new_int = int(my_message)\n",
    "# print(type(new_int))"
   ]
  },
  {
   "cell_type": "markdown",
   "id": "ea3d986b",
   "metadata": {
    "id": "ea3d986b"
   },
   "source": [
    "## Basic Arithmetic\n",
    "We can perform addition, substraction, division, and multiplication using the\n",
    "`+`, `-`, `/`, `*` operators.  Try using these operations with the variables that are pre-defined for you below"
   ]
  },
  {
   "cell_type": "code",
   "execution_count": 4,
   "id": "f53665e7",
   "metadata": {
    "id": "f53665e7"
   },
   "outputs": [
    {
     "name": "stdout",
     "output_type": "stream",
     "text": [
      "5.23\n",
      "string 1string 1\n",
      "-1.0100000000000002\n",
      "3\n",
      "6.5832\n",
      "10\n",
      "1.4786729857819907\n",
      "0.4\n"
     ]
    }
   ],
   "source": [
    "my_float_1 = 3.12\n",
    "my_float_2 = 2.11\n",
    "\n",
    "my_int_1 = 2\n",
    "my_int_2 = 5\n",
    "\n",
    "my_string_1 = \"string 1\"\n",
    "my_string_2 = \"string 2\"\n",
    "\n",
    "# insert code to add my_float_1 to my_float_2; print result\n",
    "my_float_3 = my_float_1 + my_float_2\n",
    "print(my_float_3)\n",
    "# insert code to add my_int_1 to my_int_2; print result\n",
    "\n",
    "# insert code to add my_string_1 to my_string_2; print result\n",
    "my_string_3 = my_string_1 + my_string_1\n",
    "print(my_string_3)\n",
    "\n",
    "# insert code to substract my_float_1 from my_float_2; print result\n",
    "my_float_3 = my_float_2 - my_float_1 \n",
    "print(my_float_3)\n",
    "\n",
    "# insert code to subtract my_int_1 from my_int_2; print result\n",
    "my_int_3 = my_int_2 - my_int_1\n",
    "print(my_int_3)\n",
    "\n",
    "# insert code to multiply my_float_1 by my_float_2; print result\n",
    "my_float_4 = my_float_2 * my_float_1 \n",
    "print(my_float_4)\n",
    "\n",
    "# insert code to multiply my_int_1 by my_int_2; print result\n",
    "my_int_4 = my_int_2 * my_int_1\n",
    "print(my_int_4)\n",
    "\n",
    "# insert code to divide my_float_1 by my_float_2; print result\n",
    "my_float_5 = my_float_1 / my_float_2 \n",
    "print(my_float_5)\n",
    "\n",
    "# insert code to divide my_int_1 by my_int_2; print result\n",
    "my_int_5 = my_int_1 / my_int_2\n",
    "print(my_int_5)\n"
   ]
  },
  {
   "cell_type": "markdown",
   "id": "c8f39e10",
   "metadata": {
    "id": "c8f39e10"
   },
   "source": [
    "## Numpy arrays: Vectors\n",
    "Numpy arrays are special types of variables that can make use of different mathematical operation in the numpy library.  We will see that a lot of linear algebra operations can be performed with numpy arrays using very simple syntax.  Numpy arrays can have an arbitrary number of dimensions, but we will use 2-dimensional numpy arrays with\n",
    "a single column and multiple rows to denote a column vector.  We can take the transpose of these numpy arrays to represent a row vector.  \n",
    "\n",
    "Let's use as an example the basis states of spin kets that we have seen / will see soon in lecture:\n",
    "\n",
    "\\begin{equation}\n",
    "|\\chi_{\\alpha}^{(z)} \\rangle=\n",
    "\\begin{bmatrix}\n",
    "  1 \\\\\n",
    "  0 \\\\\n",
    "\\end{bmatrix}\n",
    "\\end{equation}\n",
    "\n",
    "\n",
    "\\begin{equation}\n",
    "|\\chi_{\\beta}^{(z)}\\rangle =\n",
    "\\begin{bmatrix}\n",
    "  0 \\\\\n",
    "  1 \\\\\n",
    "\\end{bmatrix}\n",
    "\\end{equation}\n",
    "\n",
    "$|\\chi_{\\alpha}^{(z)}\\rangle$ can be formed using the following syntax:\n",
    "`ket_alpha = np.array([[1],[0]])`\n",
    "\n",
    "We can get the number of rows and number of columns (the shape) of this vector using `np.shape(ket_alpha)`."
   ]
  },
  {
   "cell_type": "code",
   "execution_count": 29,
   "id": "a36ab6a7",
   "metadata": {
    "id": "a36ab6a7",
    "outputId": "ebc2ce1a-e6c2-491b-8a1d-74e6a770c2fb"
   },
   "outputs": [
    {
     "name": "stdout",
     "output_type": "stream",
     "text": [
      "[[1]\n",
      " [0]]\n",
      "[[0]\n",
      " [1]]\n",
      "(2, 1)\n",
      "(2, 1)\n"
     ]
    }
   ],
   "source": [
    "# insert code to assign ket chi_alpha\n",
    "ket_alpha =np.array([[1],[0]])\n",
    "\n",
    "# insert code to assign ket chi_beta\n",
    "ket_beta = np.array([[0],[1]])\n",
    "\n",
    "# insert code to print both kets\n",
    "print(ket_alpha)\n",
    "print(ket_beta)\n",
    "\n",
    "# compute and print the shape of bra_alpha\n",
    "shape_alpha = np.shape(ket_alpha)\n",
    "shape_beta = np.shape(ket_beta)\n",
    "\n",
    "print(shape_alpha)\n",
    "print(shape_beta)"
   ]
  },
  {
   "cell_type": "markdown",
   "id": "8f75c4f8",
   "metadata": {
    "id": "8f75c4f8"
   },
   "source": [
    "We can form the bras corresponding to these kets by taking the complex conjugate and transpose of the column vectors we have just formed.  The result will be row vectors, keeping the correspondence to the \"bra\" - \"ket\" convention.\n",
    "\n",
    "$$ \\langle \\chi_{\\alpha}^{(z)}| = |\\chi_{\\alpha}^{(z)}\\rangle ^{\\dagger} = [1^* \\: 0^*] $$\n",
    "\n",
    "$$ \\langle \\chi_{\\beta}^{(z)}| = |\\chi_{\\beta}^{(z)}\\rangle ^{\\dagger} = [0^* \\: 1^*]$$\n",
    "\n",
    "This operation can be computed using the following syntax:\n",
    "`bra_alpha = ket_alpha.conj().T`\n",
    "\n",
    "You can compute the shape of the bras in the same way as you used for the kets; take note of how the shape changes."
   ]
  },
  {
   "cell_type": "code",
   "execution_count": 6,
   "id": "05a0f223",
   "metadata": {
    "id": "05a0f223",
    "outputId": "c67b83ab-9439-4dbd-eb53-72e9b07443cb"
   },
   "outputs": [
    {
     "name": "stdout",
     "output_type": "stream",
     "text": [
      "[[1 0]]\n",
      "[[0 1]]\n",
      "(1, 2)\n",
      "(1, 2)\n"
     ]
    }
   ],
   "source": [
    "# insert code to assign bra chi_alpha as adjoint of ket chi_alpha\n",
    "bra_alpha = ket_alpha.conj().T\n",
    "print(bra_alpha)\n",
    "\n",
    "# insert code to assign bra chi_beta as adjoint of ket chi_beta\n",
    "\n",
    "bra_beta = ket_beta.conj().T\n",
    "print(bra_beta)\n",
    "\n",
    "# compute and print the shape of bra_alpha\n",
    "shape_alpha_bra = np.shape(bra_alpha)\n",
    "shape_beta_bra = np.shape(bra_beta)\n",
    "\n",
    "print(shape_alpha_bra)\n",
    "print(shape_beta_bra)"
   ]
  },
  {
   "cell_type": "markdown",
   "id": "510d294e",
   "metadata": {
    "id": "510d294e"
   },
   "source": [
    "## Computing the bra-ket\n",
    "We can view the bra-ket (also called the inner product between the bra and the ket) as a test of how much the state in the bra projects on to the state in the ket.  The answer can be anywhere between 0 (the states do not project onto each other at all, they are orthogonal states, they do not overlap at all) to 1 (these states perfectly project onto one another, they have perfect overlap, they are identical states).  We know (or will soon learn) that the spin states are orthonormal states: they have perfect overlap with themselves and zero overlap with each other.  This is codified with the following mathematical statements\n",
    "\n",
    "$$\\langle \\chi_n^{(z)} | \\chi_m^{(z)}\\rangle = \\delta_{nm} $$\n",
    "\n",
    "where where have used the Kronecker delta function $\\delta_{nm} = 0$ if $n\\neq m$ and $\\delta_{nm} = 1$ if $n=m$.\n",
    "\n",
    "With their vector representations, we can compute the bra-ket using the dot product as follows:\n",
    "`bra_ket_aa = np.dot(bra_alpha, ket_alpha)`\n"
   ]
  },
  {
   "cell_type": "code",
   "execution_count": 7,
   "id": "b0775882",
   "metadata": {
    "id": "b0775882",
    "outputId": "620722a7-25ce-4b52-ccc3-e445db130c1a"
   },
   "outputs": [
    {
     "name": "stdout",
     "output_type": "stream",
     "text": [
      "<alpha|alpha> =  [[1]]\n",
      "<alpha|beta> =  [[0]]\n",
      "<beta|alpha> =  [[0]]\n",
      "<beta|beta> =  [[1]]\n"
     ]
    }
   ],
   "source": [
    "# insert code to compute <alpha|alpha>\n",
    "inner_product_aa = np.dot(bra_alpha, ket_alpha )\n",
    "\n",
    "# insert code to compute <alpha|beta>\n",
    "inner_product_ab = np.dot(bra_alpha, ket_beta )\n",
    "\n",
    "# insert code to compute <beta|alpha>\n",
    "inner_product_ba = np.dot(bra_beta, ket_alpha )\n",
    "\n",
    "# insert code to compute <beta|beta>\n",
    "inner_product_bb = np.dot(bra_beta, ket_beta )\n",
    "\n",
    "# print all bra-kets to make sure they behave as expected\n",
    "print(\"<alpha|alpha> = \", inner_product_aa)\n",
    "print(\"<alpha|beta> = \", inner_product_ab)\n",
    "print(\"<beta|alpha> = \", inner_product_ba)\n",
    "print(\"<beta|beta> = \", inner_product_bb)\n",
    "\n",
    "\n",
    "inner_product_ketbra = np.dot(ket_beta, bra_beta )\n",
    "\n",
    "\n",
    "# Always bra on left in bracket and ket on left (bra, ket)\n",
    "#try with more examples \n"
   ]
  },
  {
   "cell_type": "markdown",
   "id": "dfacb04b",
   "metadata": {
    "id": "dfacb04b"
   },
   "source": [
    "## Numpy arrays: Matrices\n",
    "We will use 2-dimensional numpy arrays with\n",
    "a an equal number of rows and columns to denote square matrices.  \n",
    "Let's use as an example matrix representation of the $\\hat{S}_z$ operator that we have seen / will see soon in lecture:\n",
    "\n",
    "\\begin{equation}\n",
    "\\mathbb{S}_z = \\frac{\\hbar}{2}\n",
    "\\begin{bmatrix}\n",
    "  1 & 0 \\\\\n",
    "  0 & -1 \\\\\n",
    "\\end{bmatrix}\n",
    "\\end{equation}\n",
    "\n",
    "\n",
    "$\\mathbb{S}_z$ can be formed using the following syntax:\n",
    "`Sz = hbar / 2 * np.array([[1, 0],[0, -1]])`\n",
    "\n",
    "You can take the shape of the Sz matrix as before; take note of how its shape compares to the shape of the bras and kets.\n",
    "\n",
    "**Note** The value of $\\hbar$ in atomic units is 1."
   ]
  },
  {
   "cell_type": "code",
   "execution_count": 8,
   "id": "a7022d3c",
   "metadata": {
    "id": "a7022d3c"
   },
   "outputs": [
    {
     "name": "stdout",
     "output_type": "stream",
     "text": [
      "[[ 0.5  0. ]\n",
      " [ 0.  -0.5]]\n",
      "(2, 2)\n"
     ]
    }
   ],
   "source": [
    "# define hbar in atomic units\n",
    "hbar = 1\n",
    "\n",
    "# insert code to define the Sz matrix\n",
    "Sz = hbar/2 * np.array([[1 , 0], [0 ,-1]])\n",
    "\n",
    "\n",
    "# insert code to print the matrix\n",
    "print(Sz)\n",
    "\n",
    "# print shape of Sz\n",
    "shape_Sz = np.shape(Sz)\n",
    "print(shape_Sz)"
   ]
  },
  {
   "cell_type": "markdown",
   "id": "5b2f67b3",
   "metadata": {
    "id": "5b2f67b3"
   },
   "source": [
    "## Matrix-vector products\n",
    "An important property of the basis kets $|\\chi_{\\alpha}^{(z)} \\rangle$ and $|\\chi_{\\beta}^{(z)} \\rangle$ is that they were eigenstates of the $\\hat{S}_z$ operator satisfying\n",
    "\n",
    "$$ \\hat{S}_z |\\chi_{\\alpha}^{(z)} \\rangle = +\\frac{\\hbar}{2}|\\chi_{\\alpha}^{(z)} \\rangle $$\n",
    "\n",
    "$$ \\hat{S}_z |\\chi_{\\beta}^{(z)} \\rangle = -\\frac{\\hbar}{2}|\\chi_{\\beta}^{(z)} \\rangle $$.\n",
    "\n",
    "This property should be preserved with the matrix and vector representations of these operators and states, respectively.  We can confirm this by taking the matrix-vector product between $\\mathbb{S}_z$ and the vectors corresponding to these basis kets using the syntax\n",
    "\n",
    "`Sz_ket_a = np.dot(Sz, ket_alpha)`\n",
    "\n",
    "\n",
    "We can inspect them to see if this relationship holds, but see if you can figure an alternative way to confirm the relationship holds."
   ]
  },
  {
   "cell_type": "code",
   "execution_count": 9,
   "id": "518f6394",
   "metadata": {
    "id": "518f6394",
    "outputId": "c3d02067-5de1-4f30-911c-d949b48f9762"
   },
   "outputs": [
    {
     "name": "stdout",
     "output_type": "stream",
     "text": [
      "[[0.5]\n",
      " [0. ]]\n",
      "[[ 0. ]\n",
      " [-0.5]]\n"
     ]
    }
   ],
   "source": [
    "# compute product of Sz and ket_alpha\n",
    "Sz_ket_a = np.dot(Sz , ket_alpha)\n",
    "\n",
    "# compute product of Sz and ket_beta\n",
    "Sz_ket_b = np.dot(Sz , ket_beta)\n",
    "\n",
    "# print product of Sz and ket_alpha\n",
    "print(Sz_ket_a)\n",
    "\n",
    "# print product of Sz and ket_beta\n",
    "print(Sz_ket_b)\n",
    "\n",
    "\n",
    "#Here, ket_alpha and ket_beta are eigen vectors of Sz and h/2 and -h/2 are eigenvalues of these eigen vectors. \n",
    "# If we perform ket vectors on Sz matrix, it'll either increase the magnitude or decrease the magnitude but the vector by some\n",
    "# number but it points in same direction."
   ]
  },
  {
   "cell_type": "markdown",
   "id": "5ebbd429",
   "metadata": {
    "id": "5ebbd429"
   },
   "source": [
    "## Hermitian matrices\n",
    "<font color='red'>The matrix representations of operators in quantum mechanics are called Hermitian matrices<font>.  Hermitian matrices have the special relationship that they are equal to their adjoint (i.e., their complex conjugate transpose).  \n",
    "\n",
    "You can confirm that $\\mathbb{S}_z$ is Hermitian by the following syntax:\n",
    "\n",
    "`Sz_adjoint = Sz.conj().T`\n",
    "`print(np.allclose(Sz_adjoint, Sz))`\n",
    "\n",
    "where the first line computes the adjoint of $\\mathbb{S}_z$ and stores it to a variable `Sz_adjoint` and\n",
    "the second line prints the result of comparing all elements of `Sz_adjoint` to `Sz`.  The return value of `True` will\n",
    "indicate that `Sz_adjoint` is numerically equal to `Sz`."
   ]
  },
  {
   "cell_type": "code",
   "execution_count": 10,
   "id": "d2c7ec8b",
   "metadata": {
    "id": "d2c7ec8b",
    "outputId": "283cce09-c3f6-4397-9f9f-f717e7c2a208"
   },
   "outputs": [
    {
     "name": "stdout",
     "output_type": "stream",
     "text": [
      "[[ 0.5  0. ]\n",
      " [ 0.  -0.5]]\n",
      "False\n"
     ]
    }
   ],
   "source": [
    "# Confirm Sz is Hermitian here\n",
    "Sz_adjoint =np.copy(Sz.conj().T)\n",
    "print(Sz_adjoint)\n",
    "\n",
    "Sz_adjoint[0,0] = Sz_adjoint[0,0] + 1e-2 \n",
    "\n",
    "# Allclose() function \n",
    "print(np.allclose(Sz_adjoint, Sz, 1e-6,1e-6))\n",
    "\n",
    "#all close will give flase on adding something to its first element. "
   ]
  },
  {
   "cell_type": "markdown",
   "id": "b561924d",
   "metadata": {
    "id": "b561924d"
   },
   "source": [
    "## Eigenvalues and eigenvectors\n",
    "**An important property of Hermitian matrices is that their eigevalues are real numbers**.  In quantum mechanics, we associate the possible outcomes of measurements with the eigenvalues of Hermitian operators corresponding to the observable being measured.  In this notebook, we have been talking about the observable of spin angular momentum, which is a vector quantity. We have been specifically looking at the operators and eigenstates related to the z-component of spin angular momentum, denoted $S_z$. We have seen that this operator has two eigenstates,\n",
    "$|\\chi_{\\alpha}^{(z)}\\rangle$ and $|\\chi_{\\beta}^{(z)}\\rangle$ with associated eigenvalues $\\frac{\\hbar}{2}$ and $-\\frac{\\hbar}{2}$, which are both real numbers.  \n",
    "\n",
    "These relationships are preserved when we use the matrix - vector representation of operators and eigenstates.  In general, an eigenvalue equation with matrices and vectors satisfies\n",
    "\n",
    "$$ \\mathbb{M} \\bf{x} = \\lambda \\bf{x} $$\n",
    "\n",
    "where $\\lambda$ is an eigenvalue (which is a number) and $\\bf{x}$ is an eigenvector.  One way of interpreting these equations is to say that the action of a matrix on its eigenvectors is simply to scale the magnitude of the vector by a number (specifically, scale it by its eigenvalue).  This is a very special situation, because typically speaking, when a vector is multiplied by a matrix, the result is a new vector that points along a new direction and has a different magnitude.  For a lovely explanation with graphical illustrations, please consult [this vide](https://youtu.be/PFDu9oVAE-g).  In fact, the entire 3b1b series on linear algebra is wonderful!\n",
    "\n",
    "We have already seen that vectors associated with the basis kets $|\\chi_{\\alpha}^{(z)}\\rangle$ and $|\\chi_{\\beta}^{(z)}\\rangle$ obey this relationship with $\\mathbb{S}_z$.  What we will now do, is consider the matrices associated with the spin angular momentum components along $x$ and $y$.  We will first see that the\n",
    "basis kets $|\\chi_{\\alpha}^{(z)}\\rangle$ and $|\\chi_{\\beta}^{(z)}\\rangle$ are not eigenvectors of $\\mathbb{S}_x$ and $\\mathbb{S}_y$.  We will then use numpy's linear algebra sub-library to compute the eigenvalues and eigenvectors of these matrices, which will turn out to be linear combinations of $|\\chi_{\\alpha}^{(z)}\\rangle$ and $|\\chi_{\\beta}^{(z)}\\rangle$.  \n",
    "\n",
    "### Build matrix form of $\\mathbb{S}_x$ and $\\mathbb{S}_y$\n",
    "The operator $\\hat{S}_x$ has the matrix form\n",
    "\\begin{equation}\n",
    "\\mathbb{S}_x = \\frac{\\hbar}{2}\n",
    "\\begin{bmatrix}\n",
    "  0 & 1 \\\\\n",
    "  1 & 0 \\\\\n",
    "\\end{bmatrix}\n",
    "\\end{equation}\n",
    "and the operator $\\hat{S}_y$ has the matrix form\n",
    "\\begin{equation}\n",
    "\\mathbb{S}_y = \\frac{\\hbar}{2}\n",
    "\\begin{bmatrix}\n",
    "  0 & -i \\\\\n",
    "  i & 0 \\\\\n",
    "\\end{bmatrix}.\n",
    "\\end{equation}\n",
    "\n",
    "**Hint** The imaginary unit $i = \\sqrt{-1}$ can be accessed as `1j` in python."
   ]
  },
  {
   "cell_type": "code",
   "execution_count": 11,
   "id": "76254128",
   "metadata": {
    "id": "76254128",
    "outputId": "69894015-5d99-4385-f38e-5bf235adbebb"
   },
   "outputs": [
    {
     "name": "stdout",
     "output_type": "stream",
     "text": [
      "[[0.  0.5]\n",
      " [0.5 0. ]]\n",
      "[[0.+0.j  0.-0.5j]\n",
      " [0.+0.5j 0.+0.j ]]\n"
     ]
    }
   ],
   "source": [
    "# insert code to build Sx\n",
    "S_x = hbar/2 * np.array([[0,1],[1,0]])\n",
    "\n",
    "\n",
    "# insert code to build Sy\n",
    "S_y = (hbar/2) * np.array([[0,-1j],[1j,0]])\n",
    "\n",
    "# print Sx\n",
    "print(S_x)\n",
    "\n",
    "# print Sy\n",
    "print(S_y)"
   ]
  },
  {
   "cell_type": "markdown",
   "id": "92c6ceee",
   "metadata": {
    "id": "92c6ceee"
   },
   "source": [
    "### Take matrix-vector product of $\\mathbb{S}_x$ and $\\mathbb{S}_y$ with the basis kets\n",
    "Just as we did with $\\mathbb{S}_z$, take the following matrix-vector products:\n",
    "$$ \\mathbb{S}_x |\\chi_{\\alpha}^{(z)}\\rangle $$\n",
    "$$ \\mathbb{S}_x |\\chi_{\\beta}^{(z)}\\rangle $$\n",
    "$$ \\mathbb{S}_y |\\chi_{\\alpha}^{(z)}\\rangle $$\n",
    "$$ \\mathbb{S}_y |\\chi_{\\beta}^{(z)}\\rangle $$\n",
    "\n",
    "**Question 1:** After inspecting the results of each matrix-vector product, do you think the basis kets are eigenstates of\n",
    "$\\mathbb{S}_x$ and $\\mathbb{S}_y$?  Explain your reasoning. <br>\n",
    "**Answer** : From the rsult, it looks like basis kets are eigenstates of $\\mathbb{S}_x$ and $\\mathbb{S}_y$. Because after the operation of $\\mathbb{S}_x$ and $\\mathbb{S}_y$ on kets, it gives a scaler value mutlipy by ket itself which means scaler is eiegnvalue and kets are eigenvectors. \n",
    "\n",
    "**Question 2:** What is the shape of the result of each matrix-vector product?<br>\n",
    "**Answer**: The shape of the matrix product are (2,1) for all."
   ]
  },
  {
   "cell_type": "code",
   "execution_count": 12,
   "id": "11d5d8ff",
   "metadata": {
    "id": "11d5d8ff"
   },
   "outputs": [
    {
     "name": "stdout",
     "output_type": "stream",
     "text": [
      "[[0. ]\n",
      " [0.5]]\n",
      "[[0.5]\n",
      " [0. ]]\n",
      "[[0.-0.5j]\n",
      " [0.+0.j ]]\n",
      "[[0.+0.j ]\n",
      " [0.+0.5j]]\n",
      "(2, 1)\n",
      "(2, 1)\n",
      "(2, 1)\n",
      "(2, 1)\n"
     ]
    }
   ],
   "source": [
    "# compute product of Sx and ket_alpha and store to Sx_ket_a; print it\n",
    "Sx_ket_a = np.dot(S_x,ket_alpha)\n",
    "print(Sx_ket_a)\n",
    "\n",
    "# compute product of Sx and ket_beta and store to Sx_ket_b; print it\n",
    "Sx_ket_b = np.dot(S_x, ket_beta)\n",
    "print(Sx_ket_b)\n",
    "\n",
    "# compute product of Sy and ket_beta and store to Sy_ket_b; print it\n",
    "Sy_ket_b = np.dot(S_y, ket_beta)\n",
    "print(Sy_ket_b)\n",
    "\n",
    "# compute product of Sy and ket_alpha and store to Sy_ket_b; print it\n",
    "Sy_ket_a = np.dot(S_y, ket_alpha)\n",
    "print(Sy_ket_a)\n",
    "\n",
    "print(np.shape(Sx_ket_a))\n",
    "print(np.shape(Sx_ket_b))\n",
    "print(np.shape(Sy_ket_a))\n",
    "print(np.shape(Sy_ket_b))"
   ]
  },
  {
   "cell_type": "markdown",
   "id": "2d5951ef",
   "metadata": {
    "id": "2d5951ef"
   },
   "source": [
    "### Use `eigh()` to compute the eigenvectors and eigenvalues of $\\mathbb{S}_x$ and $\\mathbb{S}_y$\n",
    "Numpy has a linear algebra library that can compute eigenvalues and eigenvectors of Hermitian matrices that is called using the syntax\n",
    "`eigh()` is gives best results for Hermitian matrices only. \n",
    "\n",
    "\n",
    "`eigenvalues, eigenvectors = la.eigh(M)`\n",
    "\n",
    "where `eigenvalues` will store all of the eigenvectors and `eigenvectors` will store all the eigenvectors.  \n",
    "Use this method to compute the eigenvalues and eigenvectors of $\\mathbb{S}_x$ and $\\mathbb{S}_y$.\n",
    "\n",
    "**Note** A namedtuple with the following attributes:\n",
    "eigenvectors[:, i] is the normalized eigenvector corresponding to the eigenvalue eigenvalues[i].\n",
    "\n",
    "\n",
    "**Question 3:** What is the shape of the vals_x?  What is the shape of vecs_x? <br>\n",
    "**Answer**: The shape of Eigenvalues of Sx (Vals_Sx) is (2,) while for eigenvectors of Sx (vecs_Sx) is (2,2).<br>\n",
    "**Question 4:** Do these matrices have the same eigenvalues as $\\mathbb{S}_z$?  Do they have the same eigenvectors as $\\mathbb{S}_z$? <br>\n",
    "**Answer**:Eigenvalues of Sx, Sy and Sz are same but eigenvectors are different from each other and also from Sz."
   ]
  },
  {
   "cell_type": "code",
   "execution_count": 13,
   "id": "17bda9c5",
   "metadata": {
    "id": "17bda9c5",
    "outputId": "91edb4fc-059a-4c05-9303-f2ddc5549044"
   },
   "outputs": [
    {
     "name": "stdout",
     "output_type": "stream",
     "text": [
      "Eigenvalues of Sz are : [-0.5  0.5]\n",
      "Eigenvectors of Sz are :[[0. 1.]\n",
      " [1. 0.]]\n",
      "Eigenvalues of Sy are : [-0.5  0.5]\n",
      "Eigenvectors of Sy are :[[-0.70710678+0.j         -0.70710678+0.j        ]\n",
      " [ 0.        +0.70710678j  0.        -0.70710678j]]\n",
      "Eigenvalues of Sx are :[-0.5  0.5]\n",
      "Eigenvectors of Sx are :[[-0.70710678  0.70710678]\n",
      " [ 0.70710678  0.70710678]]\n",
      "(2,)\n",
      "(2,)\n",
      "(2, 2)\n",
      "(2, 2)\n"
     ]
    }
   ],
   "source": [
    "Vals_Sz, Vects_Sz = la.eigh(Sz)\n",
    "print(f\"Eigenvalues of Sz are : {Vals_Sz}\")\n",
    "print(f\"Eigenvectors of Sz are :{Vects_Sz}\")\n",
    "\n",
    "# compute eigenvectors and eigenvalues of Sx, store them to vals_x, vecs_x\n",
    "Vals_Sy, Vects_Sy = la.eigh(S_y)\n",
    "print(f\"Eigenvalues of Sy are : {Vals_Sy}\")\n",
    "print(f\"Eigenvectors of Sy are :{Vects_Sy}\")\n",
    "\n",
    "\n",
    "# compute eigenvectors and eigenvalues of Sy, store them to vals_y, vecs_y\n",
    "Vals_Sx, Vects_Sx = la.eigh(S_x)\n",
    "print(f\"Eigenvalues of Sx are :{Vals_Sx}\")\n",
    "print(f\"Eigenvectors of Sx are :{Vects_Sx}\")\n",
    "\n",
    "\n",
    "# print shape of vecs_x\n",
    "print(np.shape(Vals_Sy))\n",
    "print(np.shape(Vals_Sx))\n",
    "\n",
    "print(np.shape(Vects_Sy))\n",
    "print(np.shape(Vects_Sx))\n",
    "\n"
   ]
  },
  {
   "cell_type": "markdown",
   "id": "8a1f741d",
   "metadata": {
    "id": "8a1f741d"
   },
   "source": [
    "### Expectation values\n",
    "Another important operation in quantum mechanics is the computation of an expectation value, which can be written as a bra-ket sandwiching an operator:\n",
    "\n",
    "$$ \\langle n | \\hat{O}| m \\rangle. $$\n",
    "\n",
    "The result will depend on what $\\hat{O}$ does to $|m\\rangle$, and how the resulting ket projects upon $\\langle n|$.\n",
    "\n",
    "We can use the different eigenvectors from our last block as kets, and their adjoints as bras, along with the matrix form of the operators to compute these operations.  \n",
    "\n",
    "`ket_x_0 = vecs_x[:,0]`\n",
    "\n",
    "`bra_x_0 = ket_x_0.conj().T`\n",
    "\n",
    "`expectation_value = np.dot(bra_x_0, np.dot(Sx, ket_x_0))`\n",
    "\n",
    "\n",
    "NOTE: The operation of a matrix on a ket will give a ket vector and then, operation of a ket on bra vector will be a number."
   ]
  },
  {
   "cell_type": "code",
   "execution_count": 14,
   "id": "3b70b1c6",
   "metadata": {},
   "outputs": [
    {
     "name": "stdout",
     "output_type": "stream",
     "text": [
      "[-0.70710678  0.70710678]\n"
     ]
    }
   ],
   "source": [
    "ket_x_1 = Vects_Sx[:,0]\n",
    "print(ket_x_1)"
   ]
  },
  {
   "cell_type": "markdown",
   "id": "d9b6a9a4",
   "metadata": {},
   "source": [
    "**Question 5:** If we associate $|\\chi_{\\alpha}^{(x)}\\rangle$ with `vec_x[:,1]`, what is the expectation value corresponding to $\\langle \\chi_{\\alpha}^{(x)} | \\hat{S}_x | \\chi_{\\alpha}^{(x)} \\rangle $? <br>\n",
    "\n",
    "**Answer** : The expectation value of $\\langle \\chi_{\\alpha}^{(x)} | \\hat{S}_x | \\chi_{\\alpha}^{(x)} \\rangle $ is  0.4999999999999999.\n"
   ]
  },
  {
   "cell_type": "code",
   "execution_count": 15,
   "id": "6f7542de",
   "metadata": {},
   "outputs": [
    {
     "name": "stdout",
     "output_type": "stream",
     "text": [
      " Expectation value of ket_alpha with Sx and bra_alpha is 0.4999999999999999\n",
      "[0.70710678 0.70710678]\n",
      "[[-0.70710678  0.70710678]\n",
      " [ 0.70710678  0.70710678]]\n"
     ]
    }
   ],
   "source": [
    "ket_alpha_x = Vects_Sx[:,1]\n",
    "bra_alpha_x = ket_alpha_x.conj().T \n",
    "expectation_value_x = np.dot(bra_alpha_x, np.dot(S_x, ket_alpha_x))\n",
    "print(f\" Expectation value of ket_alpha with Sx and bra_alpha is {expectation_value_x}\")\n",
    "print(ket_alpha_x)\n",
    "print(Vects_Sx)"
   ]
  },
  {
   "cell_type": "markdown",
   "id": "feb8268e",
   "metadata": {},
   "source": [
    "**Question 6:** If we associate $|\\chi_{\\alpha}^{(y)}\\rangle$ with `vec_y[:,1]`, what is the expectation value corresponding to $\\langle \\chi_{\\alpha}^{(y)} | \\hat{S}_z | \\chi_{\\alpha}^{(y)} \\rangle $? <br>\n",
    "**Answer** : THe expectation value of $\\langle \\chi_{\\alpha}^{(y)} | \\hat{S}_z | \\chi_{\\alpha}^{(y)} \\rangle $ is  0j.\n"
   ]
  },
  {
   "cell_type": "code",
   "execution_count": 16,
   "id": "1cbb7c95",
   "metadata": {},
   "outputs": [
    {
     "name": "stdout",
     "output_type": "stream",
     "text": [
      " Expectation value of ket_alpha with Sx and bra_alpha is 0j\n"
     ]
    }
   ],
   "source": [
    "ket_alpha_y = Vects_Sy[:,1]\n",
    "bra_alpha_y = ket_alpha_y.conj().T \n",
    "expectation_value_y = np.dot(bra_alpha_y, np.dot(Sz, ket_alpha_y))\n",
    "print(f\" Expectation value of ket_alpha with Sx and bra_alpha is {expectation_value_y}\")"
   ]
  },
  {
   "cell_type": "code",
   "execution_count": 17,
   "id": "050dc8c3",
   "metadata": {
    "id": "050dc8c3"
   },
   "outputs": [
    {
     "name": "stdout",
     "output_type": "stream",
     "text": [
      "-0.4999999999999999\n",
      "(-0.4999999999999999+0j)\n"
     ]
    }
   ],
   "source": [
    "# Compute <alpha_x|Sx|alpha_x>; print the result\n",
    "ket_x_0 = Vects_Sx[:,0]\n",
    "bra_x_0 = ket_x_0.conj().T\n",
    "expectation_value_x = np.dot(bra_x_0, np.dot(S_x, ket_x_0))\n",
    "print(expectation_value_x)\n",
    "\n",
    "\n",
    "\n",
    "# Compute <alpha_y|Sz|alpha_y>; print the result\n",
    "ket_y_0 = Vects_Sy[:,0]\n",
    "bra_y_0 = ket_y_0.conj().T\n",
    "expectation_value_y = np.dot(bra_y_0, np.dot(S_y, ket_y_0))\n",
    "print(expectation_value_y)\n"
   ]
  },
  {
   "cell_type": "markdown",
   "id": "f4f73b71",
   "metadata": {
    "id": "f4f73b71"
   },
   "source": [
    "### Commutators\n",
    "We will learn later in 3141 about generalized uncertainty relations.  An important mathematical operation in formulation of uncertainty relations is the commutator, which can be taken between two operators or two matrices representing operators.  The commutator between operators $\\hat{A}$ and $\\hat{B}$ can be written as\n",
    "\n",
    "$$ [\\hat{A}, \\hat{B}] = \\hat{A} \\hat{B} - \\hat{B} \\hat{A} $$,\n",
    "and the same relation holds for the matrix form of the operators.\n",
    "A few things we should note about commutators right now is:\n",
    "1. If the equation above goes to zero, we say the operators commute\n",
    "2. If the equation above is not zero, we say the operators do not commute\n",
    "3. Commuting operators share the same set of eigenstates, and their matrix representations share the same set of eigenvectors\n",
    "4. Commuting operators are related to special pairs of observables that are called compatibile observables; we can simultaneously know the value of compatible observables with unlimited precision\n",
    "5. Operators that do not commute correspond to pairs of observables that are not compatible, there are strict limits on the precision with which we can simultaneously know the values of incompatible observables.\n",
    "\n",
    "The spin operators, and their corresponding matrices, obey the following commutation relations:\n",
    "\n",
    "$$[\\hat{S}_x, \\hat{S}_y] = i\\hbar \\hat{S}_z $$\n",
    "\n",
    "$$[\\hat{S}_y, \\hat{S}_z] = i\\hbar \\hat{S}_x $$\n",
    "\n",
    "$$[\\hat{S}_z, \\hat{S}_x] = i\\hbar \\hat{S}_y $$\n",
    "\n",
    "**Question 7:** Are the observables corresponding to $\\hat{S}_x$ compatible with the observables corresponding to $\\hat{S}_y$?  Explain your reasoning.<br>\n",
    "**Answer** : The observables corresponding to $\\hat{S}_x$ are not compatible with the observables corresponding to $\\hat{S}_y$ because commutation of $[\\hat{S}_x, \\hat{S}_y] = i\\hbar \\hat{S}_z $ is not zero. The measurements of observables of $\\hat{S}_x$ will effects the measurements on observables related to $\\hat{S}_y$. <br> \n",
    "\n",
    "**Question 8:** Confirm that the matrices $\\mathbb{S}_x$, $\\mathbb{S}_y$, and $\\mathbb{S}_z$ obey the same commutation relations as shown above.  The syntax for computing matrix products is either `np.dot(A,B)` or equivalently `A @ B`:\n",
    "\n",
    "`SxSy = np.dot(Sx, Sy)`\n",
    "\n",
    "is the same as\n",
    "\n",
    "`SxSy = Sx @ Sy`\n",
    "\n"
   ]
  },
  {
   "cell_type": "code",
   "execution_count": 18,
   "id": "fdc47d36",
   "metadata": {
    "id": "fdc47d36"
   },
   "outputs": [
    {
     "name": "stdout",
     "output_type": "stream",
     "text": [
      " Commutation of Sx and Sy is: \n",
      " [[0.+0.25j 0.+0.j  ]\n",
      " [0.+0.j   0.-0.25j]]\n",
      " Sz matrix is \n",
      " [[ 0.+0.25j  0.+0.j  ]\n",
      " [ 0.+0.j   -0.-0.25j]]\n",
      " Commutation of Sy and Sz is \n",
      " [[0.+0.j   0.+0.25j]\n",
      " [0.+0.25j 0.+0.j  ]]\n",
      " Sx matrix is \n",
      " [[0.+0.j   0.+0.25j]\n",
      " [0.+0.25j 0.+0.j  ]]\n",
      " Commutation of Sz and Sy is \n",
      " [[ 0.    0.25]\n",
      " [-0.25  0.  ]]\n",
      " Sy matrix is \n",
      " [[ 0.  +0.j  0.25+0.j]\n",
      " [-0.25+0.j  0.  +0.j]]\n"
     ]
    },
    {
     "data": {
      "text/plain": [
       "True"
      ]
     },
     "execution_count": 18,
     "metadata": {},
     "output_type": "execute_result"
    }
   ],
   "source": [
    "\n",
    "# compute commutator of Sx and Sy and compare to i*hbar*Sz\n",
    "SxSy = np.dot(S_x,S_y)\n",
    "print(f\" Commutation of Sx and Sy is: \\n {SxSy}\")\n",
    "Sz_new = 1j*hbar/2*Sz\n",
    "print(f\" Sz matrix is \\n {Sz_new}\")\n",
    "\n",
    "\n",
    "\n",
    "# compute the commutator of Sy and Sz and compare to i*hbar*Sx\n",
    "SySz = np.dot(S_y,Sz)\n",
    "print(f\" Commutation of Sy and Sz is \\n {SySz}\")\n",
    "S_x_new = 1j*hbar/2*S_x\n",
    "print(f\" Sx matrix is \\n {S_x_new}\")\n",
    "\n",
    "# compute the commutator of Sz and Sx and compare to i*hbar*Sy\n",
    "SzSx = np.dot(Sz,S_x)\n",
    "print(f\" Commutation of Sz and Sy is \\n {SzSx}\")\n",
    "S_y_new = 1j*hbar/2*S_y\n",
    "print(f\" Sy matrix is \\n {S_y_new}\")\n",
    "\n",
    "\n",
    "#comparing all mtrices \n",
    "\n",
    "np.allclose(SxSy,Sz_new)\n",
    "np.allclose(SySz,S_x_new)\n",
    "np.allclose(SzSx,S_y_new)"
   ]
  },
  {
   "cell_type": "markdown",
   "id": "e3e50193",
   "metadata": {
    "id": "bab0149e"
   },
   "source": [
    "In addition to Completing the questions included in the notebook, answer the following questions using Numpy within your Spin ½ notebook.  To submit this assignment, download your notebook as a .ipynb and email to jfoley19@charlotte.edu with the subject “Homework 2”.\n",
    "\n",
    "The spin matrices we have seen can be written in terms of the Pauli matrices as follows:\n",
    "\n",
    "\\begin{align}\n",
    "\\mathbb{S}_x = \\frac{\\hbar}{2}\\mathbf{\\sigma}_x \\\\\n",
    "\\mathbb{S}_y = \\frac{\\hbar}{2}\\mathbf{\\sigma}_y \\\\\n",
    "\\mathbb{S}_z = \\frac{\\hbar}{2}\\mathbf{\\sigma}_z.\n",
    "\\end{align}\n",
    "\n",
    "Among other things, the Pauli matrices play an important role in quantum information, and specifically comprise important [quantum gates](https://en.wikipedia.org/wiki/Quantum_logic_gate).\n",
    "\n",
    "As one example, the so-called Hadamard gate can be written as \n",
    "\n",
    "\\begin{equation}\n",
    "\\mathbb{H} = \\frac{1}{\\sqrt{2}} \\left( \\mathbf{\\sigma}_x + \\mathbf{\\sigma}_z \\right) \\tag.\n",
    "\\end{equation}\n",
    "\n",
    "**Question 9:** Demonstrate numerically that $\\mathbb{H} |\\chi_{\\alpha}^{z}\\rangle = |\\chi_{\\alpha}^{x}\\rangle $\n",
    "and that $\\mathbb{H} |\\chi_{\\beta}^{z}\\rangle = |\\chi_{\\beta}^{x}\\rangle $\n",
    "\n",
    "\n",
    "\n"
   ]
  },
  {
   "cell_type": "code",
   "execution_count": 32,
   "id": "8a97c2c0",
   "metadata": {},
   "outputs": [
    {
     "data": {
      "text/plain": [
       "True"
      ]
     },
     "execution_count": 32,
     "metadata": {},
     "output_type": "execute_result"
    }
   ],
   "source": [
    "# Pauli matrices \n",
    "Sigma_x = 2* S_x\n",
    "\n",
    "Sigma_y = 2* S_y\n",
    "\n",
    "Sigma_z = 2*Sz\n",
    "\n",
    "# computing H\n",
    "H = 1/np.sqrt(2)*(Sigma_x + Sigma_z)\n",
    "\n",
    "# computing opertaion of H on ket_alpha_z\n",
    "H_ket_az = np.dot(H, ket_alpha)\n",
    "\n",
    "np.allclose(H_ket_az, ket_alpha_x)\n"
   ]
  },
  {
   "cell_type": "code",
   "execution_count": 35,
   "id": "b2cd3eb4",
   "metadata": {},
   "outputs": [
    {
     "name": "stdout",
     "output_type": "stream",
     "text": [
      "[[ 0.70710678]\n",
      " [-0.70710678]]\n",
      "[-0.70710678  0.70710678]\n"
     ]
    }
   ],
   "source": [
    "# computing opertaion of H on ket_beta_z\n",
    "H_ket_bz = np.dot(H, ket_beta)\n",
    "\n",
    "np.allclose(H_ket_bz, ket_x_1)\n",
    "\n",
    "print(H_ket_bz)\n",
    "print(ket_x_1)\n"
   ]
  },
  {
   "cell_type": "markdown",
   "id": "9db8c2f3",
   "metadata": {},
   "source": [
    "**Question 10:** Given the definition of the Hadamard gate, comment on if it is a Hermitian matrix or not.  If it is not Hermitian, does it have any other special properties?<br> \n",
    "**Answer** : The conjugate transpose of Hadamard matrix is same as Hamdamard matrix, which means it is Hermitian matrix. The main properties of Hamdamard matrix are : <br>\n",
    "1. It is a unitary matrix and eigenvalues are real numbers. <br>\n",
    "2. it is commutative matrix. \n",
    "3. it is also orthogonal. \n",
    "4. it is used in Quantum computing as logic gates for qubits. "
   ]
  },
  {
   "cell_type": "code",
   "execution_count": null,
   "id": "b24d6dd7",
   "metadata": {},
   "outputs": [],
   "source": []
  },
  {
   "cell_type": "code",
   "execution_count": null,
   "id": "4c38119c",
   "metadata": {},
   "outputs": [],
   "source": []
  }
 ],
 "metadata": {
  "colab": {
   "provenance": [
    {
     "file_id": "1r4l3yVb_QnqCAp2Hn_vmFuYVyPPqFDfa",
     "timestamp": 1704237796773
    }
   ]
  },
  "kernelspec": {
   "display_name": "Python 3 (ipykernel)",
   "language": "python",
   "name": "python3"
  },
  "language_info": {
   "codemirror_mode": {
    "name": "ipython",
    "version": 3
   },
   "file_extension": ".py",
   "mimetype": "text/x-python",
   "name": "python",
   "nbconvert_exporter": "python",
   "pygments_lexer": "ipython3",
   "version": "3.9.7"
  }
 },
 "nbformat": 4,
 "nbformat_minor": 5
}
